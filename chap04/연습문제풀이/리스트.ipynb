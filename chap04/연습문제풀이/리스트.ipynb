{
 "cells": [
  {
   "cell_type": "markdown",
   "id": "f1f254ae",
   "metadata": {},
   "source": [
    "## 202110028 강찬희"
   ]
  },
  {
   "cell_type": "markdown",
   "id": "e2fd6834",
   "metadata": {},
   "source": [
    "### 1. 3명 이상 친구 이름 리스트를 작성하고 다음 내용을 프로그램하시오\n",
    "- insert()로 맨 앞에 새로운 친구 추가\n",
    "- insert()로 3번째 위치에 새로운 친구 추가\n",
    "- append()로 마지막에 친구 추가"
   ]
  },
  {
   "cell_type": "code",
   "execution_count": null,
   "id": "65b3b310",
   "metadata": {},
   "outputs": [
    {
     "name": "stdout",
     "output_type": "stream",
     "text": [
      "초기 친구 리스트: ['민수', '영희', '철수', '지영']\n",
      "맨 앞에 '도현' 추가 후: ['도현', '민수', '영희', '철수', '지영']\n",
      "3번째 위치에 '수진' 추가 후: ['도현', '민수', '수진', '영희', '철수', '지영']\n",
      "마지막에 '하늘' 추가 후: ['도현', '민수', '수진', '영희', '철수', '지영', '하늘']\n",
      "\n",
      "=== 최종 친구 리스트 ===\n",
      "총 7명의 친구:\n",
      "1. 도현\n",
      "2. 민수\n",
      "3. 수진\n",
      "4. 영희\n",
      "5. 철수\n",
      "6. 지영\n",
      "7. 하늘\n"
     ]
    }
   ],
   "source": [
    "# 초기 친구 리스트 작성 (3명 이상)\n",
    "friends = [\"민수\", \"영희\", \"철수\", \"지영\"]\n",
    "print(\"초기 친구 리스트:\", friends)\n",
    "\n",
    "# 1. insert()로 맨 앞에 새로운 친구 추가\n",
    "friends.insert(0, \"도현\")\n",
    "print(\"맨 앞에 '도현' 추가 후:\", friends)\n",
    "\n",
    "# 2. insert()로 3번째 위치에 새로운 친구 추가 (인덱스 2)\n",
    "friends.insert(2, \"수진\")\n",
    "print(\"3번째 위치에 '수진' 추가 후:\", friends)\n",
    "\n",
    "# 3. append()로 마지막에 친구 추가\n",
    "friends.append(\"하늘\")\n",
    "print(\"마지막에 '하늘' 추가 후:\", friends)\n",
    "\n",
    "# 최종 결과 확인\n",
    "print(\"\\n=== 최종 친구 리스트 ===\")\n",
    "print(f\"총 {len(friends)}명의 친구:\")\n",
    "for i, friend in enumerate(friends, 1):\n",
    "    print(f\"{i}. {friend}\")\n"
   ]
  },
  {
   "cell_type": "markdown",
   "id": "090bf5d8",
   "metadata": {},
   "source": [
    "### 2. 리스트 [1, 2, 3]에 대해 다음과 같은 처리를 하라.\n",
    "- 두 번째 요소를 17로 수정\n",
    "- 리스트에 4,5,6을 추가\n",
    "- 첫 번째 요소 제거\n",
    "- 리스트를 요소 순서대로 배열하기\n",
    "- 인덱스 3애 25넣기\n"
   ]
  },
  {
   "cell_type": "code",
   "execution_count": 3,
   "id": "922ddfde",
   "metadata": {},
   "outputs": [
    {
     "name": "stdout",
     "output_type": "stream",
     "text": [
      "[1, 2, 3]\n",
      "[1, 17, 3]\n",
      "[1, 17, 3, 4, 5, 6]\n",
      "[17, 3, 4, 5, 6]\n",
      "[3, 4, 5, 6, 17]\n",
      "[3, 4, 5, 25, 6, 17]\n"
     ]
    }
   ],
   "source": [
    "list = [1, 2, 3]\n",
    "print(list)\n",
    "list[1] = 17\n",
    "print(list)\n",
    "list.extend([4, 5, 6])\n",
    "print(list)\n",
    "del list[0]\n",
    "print(list)\n",
    "list.sort()\n",
    "print(list)\n",
    "list.insert(3, 25)\n",
    "print(list)"
   ]
  },
  {
   "cell_type": "markdown",
   "id": "d133b5bf",
   "metadata": {},
   "source": [
    "### 1. for 루프를 이용하여 다음과 같은 리스트를 생성하라.\n",
    "- 0~49까지의 수로 구성되는 리스트\n",
    "- 1~50까지 수의 제곱으로 구성되는 리스트"
   ]
  },
  {
   "cell_type": "code",
   "execution_count": 4,
   "id": "3b7154fa",
   "metadata": {},
   "outputs": [
    {
     "name": "stdout",
     "output_type": "stream",
     "text": [
      "[]\n",
      "[0, 1, 2, 3, 4, 5, 6, 7, 8, 9, 10, 11, 12, 13, 14, 15, 16, 17, 18, 19, 20, 21, 22, 23, 24, 25, 26, 27, 28, 29, 30, 31, 32, 33, 34, 35, 36, 37, 38, 39, 40, 41, 42, 43, 44, 45, 46, 47, 48, 49]\n",
      "[]\n",
      "[1, 4, 9, 16, 25, 36, 49, 64, 81, 100, 121, 144, 169, 196, 225, 256, 289, 324, 361, 400, 441, 484, 529, 576, 625, 676, 729, 784, 841, 900, 961, 1024, 1089, 1156, 1225, 1296, 1369, 1444, 1521, 1600, 1681, 1764, 1849, 1936, 2025, 2116, 2209, 2304, 2401, 2500]\n"
     ]
    }
   ],
   "source": [
    "list1 = []\n",
    "print(list1)\n",
    "for i in range(50):\n",
    "    list1.append(i)\n",
    "print(list1)\n",
    "\n",
    "list2 = []\n",
    "print(list2)\n",
    "for i in range(1, 51):\n",
    "    list2.append(i**2)\n",
    "print(list2)"
   ]
  },
  {
   "cell_type": "markdown",
   "id": "b5bb1df0",
   "metadata": {},
   "source": [
    "### 2. 크기가 같은 두 개의 리스트 L, M을 생성하고 두 리스트의 각 요소 합으로 구성되는 새로운 리스트를 생성하라. 예를 들어 L=[1,2,3]이고 M=[4,5,6]이면 [5,7,9]인 리스트 생성"
   ]
  },
  {
   "cell_type": "code",
   "execution_count": 6,
   "id": "3f22b18b",
   "metadata": {},
   "outputs": [
    {
     "name": "stdout",
     "output_type": "stream",
     "text": [
      "[1, 2, 3]\n",
      "[4, 5, 6]\n",
      "[5, 7, 9]\n"
     ]
    }
   ],
   "source": [
    "L = [1, 2, 3]\n",
    "M = [4, 5, 6]\n",
    "result = []\n",
    "for i in range(len(L)):\n",
    "    result.append(L[i] + M[i])\n",
    "print(L)\n",
    "print(M)\n",
    "print(result)       "
   ]
  },
  {
   "cell_type": "markdown",
   "id": "d601bc95",
   "metadata": {},
   "source": [
    "### 3. 사용자로부터 5개의 숫자를 문자열로 입력 받아 각 숫자를 +로 연결한 문자열을 생성하라. 예를 들어 2, 5, 11, 33, 55를 입력하면 '2+5+11+33+55'를 생성하라."
   ]
  },
  {
   "cell_type": "code",
   "execution_count": 7,
   "id": "5f28c203",
   "metadata": {},
   "outputs": [
    {
     "name": "stdout",
     "output_type": "stream",
     "text": [
      "결과 문자열: 10+20+30+40+50\n"
     ]
    }
   ],
   "source": [
    "numbers = input(\"5개의 숫자를 공백으로 구분하여 입력하세요: \").split()\n",
    "result = '+'.join(numbers)\n",
    "print(\"결과 문자열:\", result)   "
   ]
  }
 ],
 "metadata": {
  "kernelspec": {
   "display_name": "Python 3",
   "language": "python",
   "name": "python3"
  },
  "language_info": {
   "codemirror_mode": {
    "name": "ipython",
    "version": 3
   },
   "file_extension": ".py",
   "mimetype": "text/x-python",
   "name": "python",
   "nbconvert_exporter": "python",
   "pygments_lexer": "ipython3",
   "version": "3.11.2"
  }
 },
 "nbformat": 4,
 "nbformat_minor": 5
}
