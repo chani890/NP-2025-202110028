{
 "cells": [
  {
   "cell_type": "markdown",
   "id": "f38a790d",
   "metadata": {},
   "source": [
    "\n",
    "\n",
    "### 202110028 강찬희"
   ]
  },
  {
   "cell_type": "markdown",
   "id": "dc8c0d10",
   "metadata": {},
   "source": [
    "### 다음 딕셔너리에 대해 물음에 답하라.  \n",
    "days = {'January':31, 'February':28, 'March':31, 'April':30,\n",
    "'May':31, 'June':30, 'July':31, 'August':31,\n",
    "'September':30, 'October':31, 'November':30, 'December':31}\n",
    "\n",
    "- 사용자가 월을 입력하면 해당 월에 일수를 출력하라\n",
    "- 알파벳 순서로 모든 월을 출력하라\n",
    "- 일수가 31인 월을 모두 출력하라\n",
    "- 월의 일수를 기준으로 오름차순으로 (key-value) 쌍을 출력하라\n",
    "- 사용자가 월을 3자리만 입력하면 월의 일수를 출력하라.(Jan, Feb 등)"
   ]
  },
  {
   "cell_type": "code",
   "execution_count": 4,
   "id": "45f9cabe",
   "metadata": {},
   "outputs": [
    {
     "name": "stdout",
     "output_type": "stream",
     "text": [
      "May는 31일 입니다.\n"
     ]
    }
   ],
   "source": [
    "days = {\n",
    "    'January':31, 'February':28, 'March':31, 'April':30,\n",
    "    'May':31, 'June':30, 'July':31, 'August':31,\n",
    "    'September':30, 'October':31, 'November':30, 'December':31\n",
    "}\n",
    "\n",
    "month = input(\"월 이름을 입력하세요: \")\n",
    "print(f\"{month}는 {days[month]}일 입니다.\")"
   ]
  },
  {
   "cell_type": "code",
   "execution_count": 2,
   "id": "c6edab3c",
   "metadata": {},
   "outputs": [
    {
     "name": "stdout",
     "output_type": "stream",
     "text": [
      "April\n",
      "August\n",
      "December\n",
      "February\n",
      "January\n",
      "July\n",
      "June\n",
      "March\n",
      "May\n",
      "November\n",
      "October\n",
      "September\n"
     ]
    }
   ],
   "source": [
    "days = {\n",
    "    'January':31, 'February':28, 'March':31, 'April':30,\n",
    "    'May':31, 'June':30, 'July':31, 'August':31,\n",
    "    'September':30, 'October':31, 'November':30, 'December':31\n",
    "}\n",
    "\n",
    "for month in sorted(days.keys()):\n",
    "    print(month)"
   ]
  },
  {
   "cell_type": "code",
   "execution_count": 3,
   "id": "1d429e65",
   "metadata": {},
   "outputs": [
    {
     "name": "stdout",
     "output_type": "stream",
     "text": [
      "January\n",
      "March\n",
      "May\n",
      "July\n",
      "August\n",
      "October\n",
      "December\n"
     ]
    }
   ],
   "source": [
    "days = {\n",
    "    'January':31, 'February':28, 'March':31, 'April':30,\n",
    "    'May':31, 'June':30, 'July':31, 'August':31,\n",
    "    'September':30, 'October':31, 'November':30, 'December':31\n",
    "}\n",
    "\n",
    "for month, day in days.items():\n",
    "    if day == 31:\n",
    "        print(month)\n"
   ]
  },
  {
   "cell_type": "code",
   "execution_count": 4,
   "id": "3c5a34b4",
   "metadata": {},
   "outputs": [
    {
     "name": "stdout",
     "output_type": "stream",
     "text": [
      "February 28\n",
      "April 30\n",
      "June 30\n",
      "September 30\n",
      "November 30\n",
      "January 31\n",
      "March 31\n",
      "May 31\n",
      "July 31\n",
      "August 31\n",
      "October 31\n",
      "December 31\n"
     ]
    }
   ],
   "source": [
    "days = {\n",
    "    'January':31, 'February':28, 'March':31, 'April':30,\n",
    "    'May':31, 'June':30, 'July':31, 'August':31,\n",
    "    'September':30, 'October':31, 'November':30, 'December':31\n",
    "}\n",
    "\n",
    "for month, day in sorted(days.items(), key=lambda x: x[1]):\n",
    "    print(month, day)\n"
   ]
  },
  {
   "cell_type": "code",
   "execution_count": 5,
   "id": "6e4e7e57",
   "metadata": {},
   "outputs": [
    {
     "name": "stdout",
     "output_type": "stream",
     "text": [
      "January는 31일 입니다.\n"
     ]
    }
   ],
   "source": [
    "days = {\n",
    "    'January':31, 'February':28, 'March':31, 'April':30,\n",
    "    'May':31, 'June':30, 'July':31, 'August':31,\n",
    "    'September':30, 'October':31, 'November':30, 'December':31\n",
    "}\n",
    "\n",
    "abbr = input(\"월(3자리) 입력: \")\n",
    "for month in days:\n",
    "    if month.startswith(abbr):\n",
    "        print(f\"{month}는 {days[month]}일 입니다.\")"
   ]
  }
 ],
 "metadata": {
  "kernelspec": {
   "display_name": "Python 3",
   "language": "python",
   "name": "python3"
  },
  "language_info": {
   "codemirror_mode": {
    "name": "ipython",
    "version": 3
   },
   "file_extension": ".py",
   "mimetype": "text/x-python",
   "name": "python",
   "nbconvert_exporter": "python",
   "pygments_lexer": "ipython3",
   "version": "3.11.2"
  }
 },
 "nbformat": 4,
 "nbformat_minor": 5
}
