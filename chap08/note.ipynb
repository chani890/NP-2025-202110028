{
 "cells": [
  {
   "cell_type": "markdown",
   "id": "c1593e77",
   "metadata": {},
   "source": [
    "### 202110028 강찬희"
   ]
  },
  {
   "cell_type": "markdown",
   "id": "0ea59bbe",
   "metadata": {},
   "source": [
    "### 예외"
   ]
  },
  {
   "cell_type": "markdown",
   "id": "ebb651cc",
   "metadata": {},
   "source": []
  }
 ],
 "metadata": {
  "language_info": {
   "name": "python"
  }
 },
 "nbformat": 4,
 "nbformat_minor": 5
}
