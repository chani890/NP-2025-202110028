{
 "cells": [
  {
   "cell_type": "markdown",
   "id": "c1593e77",
   "metadata": {},
   "source": [
    "### 202110028 강찬희"
   ]
  },
  {
   "cell_type": "markdown",
   "id": "0ea59bbe",
   "metadata": {},
   "source": [
    "### 예외"
   ]
  },
  {
   "cell_type": "markdown",
   "id": "ebb651cc",
   "metadata": {},
   "source": [
    "### 예외란?\n",
    "- 프로그램 실행 도중에 오류가 발생하면 생성되는 특별한 객체\n",
    "- print(1/0)을 실행하면 ZeroDivisionError 예외 발생예외가 발생하면 파이썬은 프로그램 실행을 중단한다.\n",
    "- 예외처리란 예외가 발생했을 때 프로그램 실행을 중단하지 않고 처리하는 방법을 정의한 프로그램 부분<br><br>\n",
    "- 예외의 종류 <br>\n",
    " ZeroDivisionError 0으로 나눌 때<br>\n",
    " IndexError 인덱스가 범위를 벗어날 때<br>\n",
    " FileNotFoundError 존재하지 않는 파일을 열려고 할 때<br>\n",
    " ValueError 원하는 값을 입력 받지 못할 때<br>\n",
    " NameError 정의되지 않은 변수를 사용할 때<br>\n",
    " TypeError 데이터형이 맞지 않는 연산을 할 때<br>"
   ]
  },
  {
   "cell_type": "markdown",
   "id": "dfa9ab64",
   "metadata": {},
   "source": [
    "### 예외처리(1)\n",
    "- try-except/try-except-else문"
   ]
  },
  {
   "cell_type": "code",
   "execution_count": 2,
   "id": "d59065db",
   "metadata": {},
   "outputs": [
    {
     "name": "stdout",
     "output_type": "stream",
     "text": [
      "0.5\n"
     ]
    }
   ],
   "source": [
    "b = 2  # b를 정의합니다.\n",
    "\n",
    "try:\n",
    "    a = 1/b # 1\n",
    "except ZeroDivisionError:\n",
    "    print(\"0으로 나눌 수 없습니다.\") # 2\n",
    "else: \n",
    "    print(a) # 3"
   ]
  },
  {
   "cell_type": "markdown",
   "id": "0187a2f8",
   "metadata": {},
   "source": [
    "- ➊ a=1/b를 실행하고 ZeroDivisionError 예외가 발생하면 ➋ 문장 실행\n",
    "- ZeroDivisionError가 아닌 다른 예외가 발생하면 프로그램 중단\n",
    "- 예외가 발생하지 않으면 ➌ 문장 실행\n",
    "- else: 블록은 생략 가능\n",
    "- except ZeroDivisionError: 에서 ZeroDivisionError를 생략하면 모든 예외에 대해 ➋ 문장 실행"
   ]
  },
  {
   "cell_type": "code",
   "execution_count": 3,
   "id": "2ee197c1",
   "metadata": {},
   "outputs": [
    {
     "name": "stdout",
     "output_type": "stream",
     "text": [
      "3\n"
     ]
    }
   ],
   "source": [
    "### 예외를 알수 없는 try-except-else 문\n",
    "\n",
    "try:\n",
    "    a = int(input(\"Type a Number:\")) #1\n",
    "except Exception as e:  # 2\n",
    "    print(\"예외가 발생했습니다:\", e) # 3\n",
    "else:\n",
    "    print(a)    # 4"
   ]
  },
  {
   "cell_type": "markdown",
   "id": "c0bf33cd",
   "metadata": {},
   "source": [
    "- Try 블록: ➊을 실행하고 예외가 발생하면\n",
    "- Except 블록: 어떤 종류의 예외 ➋ 가 발생하면 예외객체를 e로 받고 ➌ 문장 실행\n",
    "- 예외의 종류는 모르지만 예외가 발생할 이유를 알고 싶을 때 ➋와 같이 사용. e는 예외와 관련된 메시지 저장\n",
    "- Else 블록: 예외가 발생하지 않으면 ➌ 문장 실행"
   ]
  },
  {
   "cell_type": "code",
   "execution_count": 4,
   "id": "f33117fe",
   "metadata": {},
   "outputs": [
    {
     "name": "stdout",
     "output_type": "stream",
     "text": [
      "OS 오류:  [Errno 2] No such file or directory: 'sample.txt'\n"
     ]
    }
   ],
   "source": [
    "### 복합 try-except 문\n",
    "\n",
    "import sys\n",
    "try:\n",
    "    fp = open('sample.txt')\n",
    "    sl = fp.readline()\n",
    "    value = int(sl.strip())\n",
    "except OSError as err:\n",
    "    print(\"OS 오류: \", err) # 1\n",
    "except ValueError:\n",
    "    print(\"정수로 변환할 수 없습니다\") # 2\n",
    "except: # Unknown Exception Occured\n",
    "    print(\"알 수 없는 오류가 발생하였습니다\") # 3"
   ]
  },
  {
   "cell_type": "markdown",
   "id": "5e081549",
   "metadata": {},
   "source": [
    "- try: 블록 실행 결과 OSError 예외가 발생하면 ➊문장 실행\n",
    "- Except: ValueError 예외가 발생하면 ➋문장 실행\n",
    "- 기타 예외가 발생하면 ➌문장 실행"
   ]
  },
  {
   "cell_type": "markdown",
   "id": "c13584f7",
   "metadata": {},
   "source": [
    "### 예외처리(2)"
   ]
  },
  {
   "cell_type": "code",
   "execution_count": null,
   "id": "9294f7f1",
   "metadata": {},
   "outputs": [],
   "source": [
    "### try-except-finally 문\n",
    "try:\n",
    "    result = x / y # 1\n",
    "except ZeroDivisionError:\n",
    "    print(\"0으로 나눌 수 없습니다\") # 2\n",
    "except:\n",
    "    print(result) # 3\n",
    "finally:\n",
    "    print(\"예외처리가 끝났습니다\") # 4\n"
   ]
  },
  {
   "cell_type": "markdown",
   "id": "bd737332",
   "metadata": {},
   "source": [
    "- Try 블록: ➊문장을 실행하고 ZeroDivisionError\n",
    "- Except 블록: ZeroDivisionError 예외가 발생하면 ➋ 문장 실행\n",
    "- Except 블록2: 예외 객체가 지정되지 않은 예외가 발생하면 ➌ 문장 실행\n",
    "- Finally 블록: 예외 발생에 관계없이 항상 ➍ 문장 실행. 따라서 finally 블록은 항상 실행됨\n",
    "- except-else 블록은 생략 가능(try-finally)"
   ]
  },
  {
   "cell_type": "markdown",
   "id": "d5594fda",
   "metadata": {},
   "source": [
    "### 사용자 예외 클래스\n",
    "#### 사용자가 예외 클래스를 선언하고, 함수에서 예외를 발생시키기\n",
    "- 사용자 예외 클래스는 Exception 클래스에서 상속받아 정의\n",
    "- __str__ 함수를 작성하면 예외 내용을 문자열로 출력 가능\n",
    "- _._init__ 함수를 작성하면 예외를 발생시킬 때 값을 전달할 수 있음"
   ]
  },
  {
   "cell_type": "markdown",
   "id": "521ad2b6",
   "metadata": {},
   "source": []
  }
 ],
 "metadata": {
  "kernelspec": {
   "display_name": "Python 3",
   "language": "python",
   "name": "python3"
  },
  "language_info": {
   "codemirror_mode": {
    "name": "ipython",
    "version": 3
   },
   "file_extension": ".py",
   "mimetype": "text/x-python",
   "name": "python",
   "nbconvert_exporter": "python",
   "pygments_lexer": "ipython3",
   "version": "3.11.2"
  }
 },
 "nbformat": 4,
 "nbformat_minor": 5
}
