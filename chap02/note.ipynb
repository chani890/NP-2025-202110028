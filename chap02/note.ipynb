{
 "cells": [
  {
   "cell_type": "markdown",
   "id": "3eb73ab9",
   "metadata": {},
   "source": [
    "## 2장 노트 정리\n",
    "\n",
    "이 파일은 2장 학습하면서 실습한 내용은 정리한 것이다\n",
    "\n",
    "날짜 : 2025.09.09\n",
    "\n",
    "저자 : 강찬희"
   ]
  },
  {
   "cell_type": "code",
   "execution_count": 1,
   "id": "9ae55ec5",
   "metadata": {},
   "outputs": [
    {
     "name": "stdout",
     "output_type": "stream",
     "text": [
      "hello,여러분\n"
     ]
    }
   ],
   "source": [
    "print(\"hello,여러분\")"
   ]
  },
  {
   "cell_type": "code",
   "execution_count": null,
   "id": "684cbc2a",
   "metadata": {},
   "outputs": [],
   "source": [
    "스테이징(git add)-> 커밋(git commit) -> 푸시(git push)"
   ]
  }
 ],
 "metadata": {
  "kernelspec": {
   "display_name": "Python 3",
   "language": "python",
   "name": "python3"
  },
  "language_info": {
   "codemirror_mode": {
    "name": "ipython",
    "version": 3
   },
   "file_extension": ".py",
   "mimetype": "text/x-python",
   "name": "python",
   "nbconvert_exporter": "python",
   "pygments_lexer": "ipython3",
   "version": "3.11.2"
  }
 },
 "nbformat": 4,
 "nbformat_minor": 5
}
