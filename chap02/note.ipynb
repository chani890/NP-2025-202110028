{
 "cells": [
  {
   "cell_type": "markdown",
   "id": "3eb73ab9",
   "metadata": {},
   "source": [
    "## 2장 노트 정리\n",
    "\n",
    "이 파일은 2장 학습하면서 배운 내용은 정리한것"
   ]
  }
 ],
 "metadata": {
  "language_info": {
   "name": "python"
  }
 },
 "nbformat": 4,
 "nbformat_minor": 5
}
