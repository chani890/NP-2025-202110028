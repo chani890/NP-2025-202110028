{
 "cells": [
  {
   "cell_type": "markdown",
   "id": "3eb73ab9",
   "metadata": {},
   "source": [
    "## 2장 노트 정리\n",
    "\n",
    "이 파일은 2장 학습하면서 실습한 내용은 정리한 것이다\n",
    "\n",
    "날짜 : 2025.09.09\n",
    "\n",
    "저자 : 강찬희"
   ]
  },
  {
   "cell_type": "code",
   "execution_count": 1,
   "id": "9ae55ec5",
   "metadata": {},
   "outputs": [
    {
     "name": "stdout",
     "output_type": "stream",
     "text": [
      "hello,여러분\n"
     ]
    }
   ],
   "source": [
    "print(\"hello,여러분\")"
   ]
  },
  {
   "cell_type": "markdown",
   "id": "684cbc2a",
   "metadata": {},
   "source": [
    "스테이징(git add)-> 커밋(git commit) -> 푸시(git push)"
   ]
  },
  {
   "cell_type": "code",
   "execution_count": 6,
   "id": "857cd3dd",
   "metadata": {},
   "outputs": [
    {
     "name": "stdout",
     "output_type": "stream",
     "text": [
      "x = 3\n"
     ]
    }
   ],
   "source": [
    "x = 3\n",
    "print(f\"x = {x}\")"
   ]
  },
  {
   "cell_type": "markdown",
   "id": "0ad0cfc5",
   "metadata": {},
   "source": [
    "## 기본 입출력 함수"
   ]
  },
  {
   "cell_type": "markdown",
   "id": "a52a8ef4",
   "metadata": {},
   "source": [
    "### print() 함수\n",
    "\n",
    "숫자나 문자열 등의 데이터나 수식을 화면에 출력할 때 사용\n",
    "\n"
   ]
  },
  {
   "cell_type": "code",
   "execution_count": null,
   "id": "d5a700ce",
   "metadata": {},
   "outputs": [
    {
     "name": "stdout",
     "output_type": "stream",
     "text": [
      "30\n",
      "abc abc abc \n"
     ]
    }
   ],
   "source": [
    "## 기본사용\n",
    "\n",
    "print(10+20)        # 30\n",
    "print(\"abc \" * 3)   # abc abc abc"
   ]
  },
  {
   "cell_type": "code",
   "execution_count": 2,
   "id": "ecea00ae",
   "metadata": {},
   "outputs": [
    {
     "name": "stdout",
     "output_type": "stream",
     "text": [
      "25 32\n",
      "25 + 32 = 57\n"
     ]
    }
   ],
   "source": [
    "## 변수 출력\n",
    "\n",
    "x, y = 25, 32\n",
    "print(x, y)               # 25 32\n",
    "print(x, '+', y, '=', x+y)  # 25 + 32 = 57"
   ]
  },
  {
   "cell_type": "code",
   "execution_count": 3,
   "id": "2ce6ef24",
   "metadata": {},
   "outputs": [
    {
     "name": "stdout",
     "output_type": "stream",
     "text": [
      "n=10\n",
      "m=5.2, n=10\n"
     ]
    }
   ],
   "source": [
    "## 서식 지정 출력\n",
    "\n",
    "n = 10\n",
    "print(\"n=%d\" % n)              # n=10\n",
    "m = 5.2\n",
    "print(\"m=%.1f, n=%d\" % (m,n))  # m=5.2, n=10"
   ]
  },
  {
   "cell_type": "markdown",
   "id": "abcc86fe",
   "metadata": {},
   "source": [
    "### input() 함수\n",
    "\n",
    "#### 키보드를 이용하여 숫자나 문자열 등의 데이터를 입력 받을 때 사용\n",
    "#### 형 변환 필요: int(), float(), str()\n",
    "\n",
    "활용 예시(\n",
    "섭씨 → 화씨 변환,\n",
    " 두 정수 곱하기, \n",
    "문자열 입력 후 출력)"
   ]
  },
  {
   "cell_type": "markdown",
   "id": "1d9ebf03",
   "metadata": {},
   "source": [
    "## 기본 자료형"
   ]
  },
  {
   "cell_type": "markdown",
   "id": "4bfe0c06",
   "metadata": {},
   "source": [
    "#### 부울형 (bool): True, False\n",
    "#### 정수형 (int): 10진수, 2진수(0b), 8진수(0o), 16진수(0x)\n",
    "#### 실수형 (float): 지수 표현 가능 (1.0e2), 구분자 _ 사용 가능\n",
    "#### 문자열 (str): ' ' 또는 \" \"로 표현, 여러 줄 가능"
   ]
  },
  {
   "cell_type": "markdown",
   "id": "1573bff5",
   "metadata": {},
   "source": [
    "#### 지정(할당) 연산자: =\n",
    "#### 산술 연산자: + - * / // % **\n",
    "#### 관계 연산자: == != > < >= <= → 결과는 True/False\n",
    "#### 논리 연산자: and, or, not\n",
    "#### 멤버 연산자: in, not in\n",
    "#### 식별 연산자: is, is not\n",
    "#### 연산 오류 (TypeError): 서로 다른 자료형을 잘못 연산할 때 발생"
   ]
  }
 ],
 "metadata": {
  "kernelspec": {
   "display_name": "Python 3",
   "language": "python",
   "name": "python3"
  },
  "language_info": {
   "codemirror_mode": {
    "name": "ipython",
    "version": 3
   },
   "file_extension": ".py",
   "mimetype": "text/x-python",
   "name": "python",
   "nbconvert_exporter": "python",
   "pygments_lexer": "ipython3",
   "version": "3.11.2"
  }
 },
 "nbformat": 4,
 "nbformat_minor": 5
}
