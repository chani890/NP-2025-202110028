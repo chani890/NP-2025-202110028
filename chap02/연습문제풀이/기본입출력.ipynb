{
 "cells": [
  {
   "cell_type": "markdown",
   "id": "8f63ba5a",
   "metadata": {},
   "source": [
    "# 202110028 강찬희\n",
    "\n",
    "## 연습문제 1\n",
    "\n",
    "### 1. 키보드에서 임의의 두 실수를 입력 받아 곱한 후 그 결과를 출력하는 프로그램을 작성하고 실행하라"
   ]
  },
  {
   "cell_type": "code",
   "execution_count": 1,
   "id": "01fdcbc6",
   "metadata": {},
   "outputs": [
    {
     "name": "stdout",
     "output_type": "stream",
     "text": [
      "두 실수의 곱은: 2.0\n"
     ]
    }
   ],
   "source": [
    "num1 = float(input(\"첫 번째 실수를 입력하세요: \"))\n",
    "num2 = float(input(\"두 번째 실수를 입력하세요: \"))\n",
    "\n",
    "result = num1 * num2\n",
    "\n",
    "print(\"두 실수의 곱은:\", result)"
   ]
  },
  {
   "cell_type": "markdown",
   "id": "1c1c5249",
   "metadata": {},
   "source": [
    "## 연습문제 2\n",
    "\n",
    "### 1마일은 1.609km이다. 키보드에서 마일(정수)을 입력 받아 km로 변환해 출력하는 프로그램을 작성하고 실행하라"
   ]
  },
  {
   "cell_type": "code",
   "execution_count": 2,
   "id": "d8d99a3a",
   "metadata": {},
   "outputs": [
    {
     "name": "stdout",
     "output_type": "stream",
     "text": [
      "4 마일은 6.436 km입니다.\n"
     ]
    }
   ],
   "source": [
    "mile = int(input(\"마일을 입력하세요: \"))\n",
    "km = mile * 1.609\n",
    "print(f\"{mile} 마일은 {km} km입니다.\")"
   ]
  },
  {
   "cell_type": "markdown",
   "id": "576dda72",
   "metadata": {},
   "source": [
    "# 연습문제 3\n",
    "\n",
    "## 원의 반지름을 입력 받아 원의 둘레와 원의 면적을 출력하는 프로그램을 작성하라"
   ]
  },
  {
   "cell_type": "code",
   "execution_count": 3,
   "id": "411faca6",
   "metadata": {},
   "outputs": [
    {
     "name": "stdout",
     "output_type": "stream",
     "text": [
      "원의 둘레: 314.0\n",
      "원의 면적: 7850.0\n"
     ]
    }
   ],
   "source": [
    "radius = float(input(\"원의 반지름을 입력하세요: \"))\n",
    "circumference = 2 * 3.14 * radius\n",
    "area = 3.14 * radius * radius\n",
    "print(f\"원의 둘레: {circumference}\")\n",
    "print(f\"원의 면적: {area}\")"
   ]
  }
 ],
 "metadata": {
  "kernelspec": {
   "display_name": "Python 3",
   "language": "python",
   "name": "python3"
  },
  "language_info": {
   "codemirror_mode": {
    "name": "ipython",
    "version": 3
   },
   "file_extension": ".py",
   "mimetype": "text/x-python",
   "name": "python",
   "nbconvert_exporter": "python",
   "pygments_lexer": "ipython3",
   "version": "3.11.2"
  }
 },
 "nbformat": 4,
 "nbformat_minor": 5
}
