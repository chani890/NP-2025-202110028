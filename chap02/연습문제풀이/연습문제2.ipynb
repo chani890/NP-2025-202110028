{
 "cells": [
  {
   "cell_type": "markdown",
   "id": "e32a1714",
   "metadata": {},
   "source": [
    "## 202110028 강찬희"
   ]
  },
  {
   "cell_type": "markdown",
   "id": "9432c1e0",
   "metadata": {},
   "source": [
    "### 1. 초를 입력하면 분과 초로 표시하는 프로그램. 예를 들어, 200초를 입력하면 3분 20초로 표현하라"
   ]
  },
  {
   "cell_type": "code",
   "execution_count": 1,
   "id": "509ca323",
   "metadata": {},
   "outputs": [
    {
     "name": "stdout",
     "output_type": "stream",
     "text": [
      "3929초는 65분 29초입니다.\n"
     ]
    }
   ],
   "source": [
    "total_seconds = int(input(\"초를 입력하세요: \"))\n",
    "minutes = total_seconds // 60\n",
    "seconds = total_seconds % 60    \n",
    "print(f\"{total_seconds}초는 {minutes}분 {seconds}초입니다.\")"
   ]
  },
  {
   "cell_type": "markdown",
   "id": "665616c8",
   "metadata": {},
   "source": [
    "### 2. 분(min)을 입력 하면, 일, 시간, 분으로 출력하는 프로그램을 만들어라. (예 : 1550분은 1일 1시간 50분)"
   ]
  },
  {
   "cell_type": "code",
   "execution_count": 3,
   "id": "ae9a45f4",
   "metadata": {},
   "outputs": [
    {
     "name": "stdout",
     "output_type": "stream",
     "text": [
      "433832478분은 301272일 13시간 18분입니다.\n"
     ]
    }
   ],
   "source": [
    "minutes = int(input(\"분을 입력하세요: \"))\n",
    "days = minutes // 1440\n",
    "hours = (minutes % 1440) // 60\n",
    "remaining_minutes = minutes % 60\n",
    "print(f\"{minutes}분은 {days}일 {hours}시간 {remaining_minutes}분입니다.\")"
   ]
  },
  {
   "cell_type": "markdown",
   "id": "18859a3a",
   "metadata": {},
   "source": [
    "### 3. 500만원을 년이율 5%로 복리 저금했을 때 5년 후의 원리금의 합계를 출력하는 프로그램"
   ]
  },
  {
   "cell_type": "code",
   "execution_count": 4,
   "id": "0f7a6500",
   "metadata": {},
   "outputs": [
    {
     "name": "stdout",
     "output_type": "stream",
     "text": [
      "5년 후의 원리금의 합계는 6,381,408원입니다.\n"
     ]
    }
   ],
   "source": [
    "principal = 5000000  # 초기 원금\n",
    "rate = 0.05          # 연이율\n",
    "years = 5            # 기간(년)     \n",
    "amount = principal * (1 + rate) ** years\n",
    "print(f\"5년 후의 원리금의 합계는 {amount:,.0f}원입니다.\")   "
   ]
  },
  {
   "cell_type": "markdown",
   "id": "a96da5f1",
   "metadata": {},
   "source": [
    "### 4. 1부터 n까지의 합은 n(n+1)/2로 주어진다. 1부터 100까지의 합을 구하여 출력하는 프로그램을 작성하고 실행하라."
   ]
  },
  {
   "cell_type": "code",
   "execution_count": 5,
   "id": "82ecd793",
   "metadata": {},
   "outputs": [
    {
     "name": "stdout",
     "output_type": "stream",
     "text": [
      "1부터 100까지의 합은 5050입니다.\n"
     ]
    }
   ],
   "source": [
    "n = 100\n",
    "sum_n = n * (n + 1) // 2\n",
    "print(f\"1부터 {n}까지의 합은 {sum_n}입니다.\")"
   ]
  },
  {
   "cell_type": "markdown",
   "id": "985e01d2",
   "metadata": {},
   "source": [
    "### 5. 판매자가 딸기와 포도를 판매하고 있다. 포도 한 알의 무게는 75g이고 딸기 한 알의 무게는 113.5g이다. 사용자로부터 포도 알의 개수와 딸기의 개수를 입력 받아 총 무게를 계산하여 출력하는 프로그램을 작성하고 실행하라."
   ]
  },
  {
   "cell_type": "code",
   "execution_count": 6,
   "id": "88606824",
   "metadata": {},
   "outputs": [
    {
     "name": "stdout",
     "output_type": "stream",
     "text": [
      "총 무게는 829.0g입니다.\n"
     ]
    }
   ],
   "source": [
    "grape_weight = 75      # 포도 한 알의 무게 (g)\n",
    "strawberry_weight = 113.5  # 딸기 한 알의 무게 (g)  \n",
    "num_grapes = int(input(\"포도 알의 개수를 입력하세요: \"))\n",
    "num_strawberries = int(input(\"딸기 알의 개수를 입력하세요: \"))\n",
    "total_weight = (num_grapes * grape_weight) + (num_strawberries * strawberry_weight)\n",
    "print(f\"총 무게는 {total_weight}g입니다.\")"
   ]
  },
  {
   "cell_type": "code",
   "execution_count": null,
   "id": "b1ae7f2b",
   "metadata": {},
   "outputs": [],
   "source": []
  }
 ],
 "metadata": {
  "kernelspec": {
   "display_name": "Python 3",
   "language": "python",
   "name": "python3"
  },
  "language_info": {
   "codemirror_mode": {
    "name": "ipython",
    "version": 3
   },
   "file_extension": ".py",
   "mimetype": "text/x-python",
   "name": "python",
   "nbconvert_exporter": "python",
   "pygments_lexer": "ipython3",
   "version": "3.11.2"
  }
 },
 "nbformat": 4,
 "nbformat_minor": 5
}
