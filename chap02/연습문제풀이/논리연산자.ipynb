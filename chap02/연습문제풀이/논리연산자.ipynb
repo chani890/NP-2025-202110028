{
 "cells": [
  {
   "cell_type": "markdown",
   "id": "3902c2f5",
   "metadata": {},
   "source": [
    "# 202110028 강찬희"
   ]
  },
  {
   "cell_type": "markdown",
   "id": "7942137a",
   "metadata": {},
   "source": [
    "### 1. 5가 3보다 크고 7보다 작은지 검사하는 프로그램을 작성하라."
   ]
  },
  {
   "cell_type": "code",
   "execution_count": 1,
   "id": "d066f969",
   "metadata": {},
   "outputs": [
    {
     "name": "stdout",
     "output_type": "stream",
     "text": [
      "5는 3보다 크고 7보다 작습니다.\n"
     ]
    }
   ],
   "source": [
    "if 5 > 3 and 5 < 7:\n",
    "    print(\"5는 3보다 크고 7보다 작습니다.\")\n",
    "else:\n",
    "    print(\"5는 3보다 크고 7보다 작지 않습니다.\")"
   ]
  },
  {
   "cell_type": "markdown",
   "id": "10f5b3f0",
   "metadata": {},
   "source": [
    "### 2. 변수 x가 10 이상이고 20 이하인지 검사하는 프로그램을 작성하라."
   ]
  },
  {
   "cell_type": "code",
   "execution_count": 5,
   "id": "7964bc73",
   "metadata": {},
   "outputs": [
    {
     "name": "stdout",
     "output_type": "stream",
     "text": [
      "변수 x의 값은 10 이상이고 20 이하입니다.\n"
     ]
    }
   ],
   "source": [
    "x = 15\n",
    "\n",
    "if x > 10 and x <= 20:\n",
    "    print(\"변수 x의 값은 10 이상이고 20 이하입니다.\")\n",
    "else:\n",
    "    print(\"변수 x의 값은 10 이상이고 20 이하가 아닙니다.\")"
   ]
  },
  {
   "cell_type": "markdown",
   "id": "d7f94759",
   "metadata": {},
   "source": [
    "### 3. 변수 y가 5의 배수이거나 7의 배수인지 검사하는 프로그램을 작성하라."
   ]
  },
  {
   "cell_type": "code",
   "execution_count": 4,
   "id": "f16add68",
   "metadata": {},
   "outputs": [
    {
     "name": "stdout",
     "output_type": "stream",
     "text": [
      "변수 y는 5의 배수이거나 7의 배수입니다.\n"
     ]
    }
   ],
   "source": [
    "y = 5\n",
    "\n",
    "if y % 5 == 0 or y % 7 == 0:\n",
    "    print(\"변수 y는 5의 배수이거나 7의 배수입니다.\")\n",
    "else:\n",
    "    print(\"변수 y는 5의 배수도 아니고 7의 배수도 아닙니다.\")"
   ]
  },
  {
   "cell_type": "markdown",
   "id": "b01b1496",
   "metadata": {},
   "source": [
    "### 4. 변수 z가 양수이면서 짝수인지 검사하는 프로그램을 작성하라."
   ]
  },
  {
   "cell_type": "code",
   "execution_count": 3,
   "id": "6aefbfdd",
   "metadata": {},
   "outputs": [
    {
     "name": "stdout",
     "output_type": "stream",
     "text": [
      "변수 z는 양수이면서 짝수입니다.\n"
     ]
    }
   ],
   "source": [
    "z = 4\n",
    "\n",
    "if z > 0 and z % 2 == 0:\n",
    "    print(\"변수 z는 양수이면서 짝수입니다.\")\n",
    "else:\n",
    "    print(\"변수 z는 양수이면서 짝수가 아닙니다.\")"
   ]
  },
  {
   "cell_type": "markdown",
   "id": "3a0b2e75",
   "metadata": {},
   "source": [
    "### 5. 변수 a가 문자열 \"hello\"나 문자열 \"world\" 중 하나인지 검사하는 프로그램을 작성하라."
   ]
  },
  {
   "cell_type": "code",
   "execution_count": 6,
   "id": "a8a6f40a",
   "metadata": {},
   "outputs": [
    {
     "name": "stdout",
     "output_type": "stream",
     "text": [
      "변수 a는 'hello' 또는 'world'입니다.\n"
     ]
    }
   ],
   "source": [
    "a = input(\"문자열(hello 혹은 world)을 입력하세요: \")\n",
    "\n",
    "if a == \"hello\" or a == \"world\":\n",
    "    print(\"변수 a는 'hello' 또는 'world'입니다.\")\n",
    "else:\n",
    "    print(\"변수 a는 'hello' 또는 'world'가 아닙니다.\")"
   ]
  }
 ],
 "metadata": {
  "kernelspec": {
   "display_name": "Python 3",
   "language": "python",
   "name": "python3"
  },
  "language_info": {
   "codemirror_mode": {
    "name": "ipython",
    "version": 3
   },
   "file_extension": ".py",
   "mimetype": "text/x-python",
   "name": "python",
   "nbconvert_exporter": "python",
   "pygments_lexer": "ipython3",
   "version": "3.11.2"
  }
 },
 "nbformat": 4,
 "nbformat_minor": 5
}
