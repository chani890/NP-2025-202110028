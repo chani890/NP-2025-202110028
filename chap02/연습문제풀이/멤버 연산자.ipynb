{
 "cells": [
  {
   "cell_type": "markdown",
   "id": "876819eb",
   "metadata": {},
   "source": [
    "## 202110028 강찬희"
   ]
  },
  {
   "cell_type": "markdown",
   "id": "ef95fde7",
   "metadata": {},
   "source": [
    "### 1. 숫자 7이 리스트 [1, 2, 3, 4, 5]에 포함되어 있는지 검사하는 프로그램을 작성하라."
   ]
  },
  {
   "cell_type": "code",
   "execution_count": 2,
   "id": "6c7cc309",
   "metadata": {},
   "outputs": [
    {
     "name": "stdout",
     "output_type": "stream",
     "text": [
      "변수 x는 리스트에 포함되어 있지 않습니다.\n"
     ]
    }
   ],
   "source": [
    "x = 7\n",
    "if x in [1, 2, 3, 4, 5]:\n",
    "    print(\"변수 x는 리스트에 포함되어 있습니다.\")\n",
    "else:\n",
    "    print(\"변수 x는 리스트에 포함되어 있지 않습니다.\")\n"
   ]
  },
  {
   "cell_type": "markdown",
   "id": "e1f6b4c0",
   "metadata": {},
   "source": [
    "### 2. 문자열 \"apple\"이 세트 {\"orange\", \"banana\", \"kiwi\"}에 포함되어 있는지 검사하는 프로그램을 작성하라."
   ]
  },
  {
   "cell_type": "code",
   "execution_count": 1,
   "id": "2f91f47b",
   "metadata": {},
   "outputs": [
    {
     "name": "stdout",
     "output_type": "stream",
     "text": [
      "변수 y는 세트에 포함되어 있지 않습니다.\n"
     ]
    }
   ],
   "source": [
    "a = \"apple\"\n",
    "if a in {\"orange\", \"banana\", \"kiwi\"}:\n",
    "    print(\"변수 y는 세트에 포함되어 있습니다.\")\n",
    "else:       \n",
    "    print(\"변수 y는 세트에 포함되어 있지 않습니다.\")"
   ]
  },
  {
   "cell_type": "markdown",
   "id": "3fe737a5",
   "metadata": {},
   "source": [
    "### 3. 숫자 6이 딕셔너리 {\"a\": 1, \"b\": 2, \"c\": 3, \"d\": 4}의 값들 중 하나인지 검사하는 프로그램을 작성하라."
   ]
  },
  {
   "cell_type": "code",
   "execution_count": 3,
   "id": "cfc7e7f2",
   "metadata": {},
   "outputs": [
    {
     "name": "stdout",
     "output_type": "stream",
     "text": [
      "변수 z는 딕셔너리의 값들 중 하나가 아닙니다.\n"
     ]
    }
   ],
   "source": [
    "x = {\"a\": 1, \"b\": 2, \"c\": 3, \"d\": 4}\n",
    "if 6 in x.values():\n",
    "    print(\"변수 z는 딕셔너리의 값들 중 하나입니다.\")\n",
    "else:\n",
    "    print(\"변수 z는 딕셔너리의 값들 중 하나가 아닙니다.\")"
   ]
  },
  {
   "cell_type": "markdown",
   "id": "d4ffe565",
   "metadata": {},
   "source": [
    "### 4. 문자열 \"cat\"이 튜플 (\"dog\", \"cat\", \"bird\", \"hamster\")에 포함되어 있는지 검사하는 프로그램을 작성하라."
   ]
  },
  {
   "cell_type": "code",
   "execution_count": 4,
   "id": "3e776288",
   "metadata": {},
   "outputs": [
    {
     "name": "stdout",
     "output_type": "stream",
     "text": [
      "변수 x는 튜플에 포함되어 있습니다.\n"
     ]
    }
   ],
   "source": [
    "x = \"cat\"\n",
    "if x in (\"dog\", \"cat\", \"bird\", \"hamster\"):\n",
    "    print(\"변수 x는 튜플에 포함되어 있습니다.\")\n",
    "else:\n",
    "    print(\"변수 x는 튜플에 포함되어 있지 않습니다.\")"
   ]
  },
  {
   "cell_type": "markdown",
   "id": "7610a5fe",
   "metadata": {},
   "source": [
    "### 5. 숫자 10이 세트 {2, 4, 6, 8, 10}에 포함되어 있는지 검사하는 프로그램을 작성하라."
   ]
  },
  {
   "cell_type": "code",
   "execution_count": 5,
   "id": "1787604c",
   "metadata": {},
   "outputs": [
    {
     "name": "stdout",
     "output_type": "stream",
     "text": [
      "변수 x는 세트에 포함되어 있습니다.\n"
     ]
    }
   ],
   "source": [
    "x = 10\n",
    "if x in {2, 4, 6, 8, 10}:\n",
    "    print(\"변수 x는 세트에 포함되어 있습니다.\")\n",
    "else:\n",
    "    print(\"변수 x는 세트에 포함되어 있지 않습니다.\")"
   ]
  }
 ],
 "metadata": {
  "kernelspec": {
   "display_name": "Python 3",
   "language": "python",
   "name": "python3"
  },
  "language_info": {
   "codemirror_mode": {
    "name": "ipython",
    "version": 3
   },
   "file_extension": ".py",
   "mimetype": "text/x-python",
   "name": "python",
   "nbconvert_exporter": "python",
   "pygments_lexer": "ipython3",
   "version": "3.11.2"
  }
 },
 "nbformat": 4,
 "nbformat_minor": 5
}
