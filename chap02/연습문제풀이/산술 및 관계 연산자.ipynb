{
 "cells": [
  {
   "cell_type": "markdown",
   "id": "bec95d58",
   "metadata": {},
   "source": [
    "# 202110028 강찬희\n",
    "\n"
   ]
  },
  {
   "cell_type": "markdown",
   "id": "b292d574",
   "metadata": {},
   "source": [
    "## 산술 및 관계 연산자 연습문제"
   ]
  },
  {
   "cell_type": "markdown",
   "id": "357618c7",
   "metadata": {},
   "source": [
    "### 1. 5와 3을 더한 값을 출력하는 프로그램을 작성하라."
   ]
  },
  {
   "cell_type": "code",
   "execution_count": 5,
   "id": "e615b974",
   "metadata": {},
   "outputs": [
    {
     "name": "stdout",
     "output_type": "stream",
     "text": [
      "5 + 3 = 8\n"
     ]
    }
   ],
   "source": [
    "print(\"5 + 3 =\", 5 + 3)  "
   ]
  },
  {
   "cell_type": "markdown",
   "id": "5c0017a5",
   "metadata": {},
   "source": [
    "### 2. 7에서 3을 뺀 값을 출력하는 프로그램을 작성하라."
   ]
  },
  {
   "cell_type": "code",
   "execution_count": null,
   "id": "685f5fee",
   "metadata": {},
   "outputs": [
    {
     "name": "stdout",
     "output_type": "stream",
     "text": [
      "7 - 3 = 4\n"
     ]
    }
   ],
   "source": [
    "print(\"7 - 3 =\", 7-3)"
   ]
  },
  {
   "cell_type": "markdown",
   "id": "43f00468",
   "metadata": {},
   "source": [
    "### 3. 4를 2로 나눈 값을 출력하는 프로그램을 작성하라."
   ]
  },
  {
   "cell_type": "code",
   "execution_count": 6,
   "id": "71d4f7ae",
   "metadata": {},
   "outputs": [
    {
     "name": "stdout",
     "output_type": "stream",
     "text": [
      "4 * 2 = 8\n"
     ]
    }
   ],
   "source": [
    "print(\"4 * 2 =\", 4*2)"
   ]
  },
  {
   "cell_type": "markdown",
   "id": "eb007ee6",
   "metadata": {},
   "source": [
    "### 4. 8을 3으로 나눈 몫과 나머지를 출력하는 프로그램을 작성하라."
   ]
  },
  {
   "cell_type": "code",
   "execution_count": 9,
   "id": "d0820e31",
   "metadata": {},
   "outputs": [
    {
     "name": "stdout",
     "output_type": "stream",
     "text": [
      "나눈 몫 = 2\n",
      "나머지 = 2\n"
     ]
    }
   ],
   "source": [
    "num1 = 8//3\n",
    "num2 = 8%3\n",
    "print(\"나눈 몫 =\", num1)\n",
    "print(\"나머지 =\", num2)"
   ]
  },
  {
   "cell_type": "markdown",
   "id": "621d0809",
   "metadata": {},
   "source": [
    "### 5. 2의 5제곱을 출력하는 프로그램을 작성하라."
   ]
  },
  {
   "cell_type": "code",
   "execution_count": 10,
   "id": "5cbe09bf",
   "metadata": {},
   "outputs": [
    {
     "name": "stdout",
     "output_type": "stream",
     "text": [
      "2의 5제곱 = 32\n"
     ]
    }
   ],
   "source": [
    "print(\"2의 5제곱 =\", 2**5)\n"
   ]
  },
  {
   "cell_type": "markdown",
   "id": "0cd3f51d",
   "metadata": {},
   "source": [
    "### 6. 입력된 정수가 10보다 크고 20보다 작은지 검사하는 프로그램을 작성하라."
   ]
  },
  {
   "cell_type": "code",
   "execution_count": 11,
   "id": "aa9e6b30",
   "metadata": {},
   "outputs": [
    {
     "name": "stdout",
     "output_type": "stream",
     "text": [
      "입력된 정수는 10보다 크고 20보다 작습니다.\n"
     ]
    }
   ],
   "source": [
    "num = int(input(\"정수를 입력하시오: \"))\n",
    "if 10 < num < 20:\n",
    "    print(\"입력된 정수는 10보다 크고 20보다 작습니다.\")\n",
    "else:\n",
    "    print(\"입력된 정수는 10보다 크거나 20보다 작지 않습니다.\")\n"
   ]
  },
  {
   "cell_type": "markdown",
   "id": "e261f724",
   "metadata": {},
   "source": [
    "### 7. 문자열 \"hello\"와 문자열 \"world\"를 이어 붙인 결과를 출력하는 프로그램을 작성하라."
   ]
  },
  {
   "cell_type": "code",
   "execution_count": 12,
   "id": "bbbb2b2c",
   "metadata": {},
   "outputs": [
    {
     "name": "stdout",
     "output_type": "stream",
     "text": [
      "helloworld\n"
     ]
    }
   ],
   "source": [
    "print(\"hello\" + \"world\")"
   ]
  },
  {
   "cell_type": "markdown",
   "id": "b36a5a7f",
   "metadata": {},
   "source": [
    "### 8. 7을 2로 나눈 결과가 3보다 작은지 검사하는 프로그램을 작성하라."
   ]
  },
  {
   "cell_type": "code",
   "execution_count": 13,
   "id": "ace89fef",
   "metadata": {},
   "outputs": [
    {
     "name": "stdout",
     "output_type": "stream",
     "text": [
      "7을 2로 나눈 결과가 3보다 작지 않습니다.\n"
     ]
    }
   ],
   "source": [
    "if 7//2 > 3:\n",
    "    print(\"7을 2로 나눈 결과가 3보다 작습니다.\")\n",
    "else:\n",
    "    print(\"7을 2로 나눈 결과가 3보다 작지 않습니다.\")"
   ]
  },
  {
   "cell_type": "markdown",
   "id": "7b3a5ef0",
   "metadata": {},
   "source": [
    "### 9. 변수 x의 값이 5와 같지 않은지 검사하는 프로그램을 작성하라."
   ]
  },
  {
   "cell_type": "code",
   "execution_count": null,
   "id": "78258444",
   "metadata": {},
   "outputs": [],
   "source": [
    "x = int(input(\"변수 x의 값을 입력하시오: \"))\n",
    "if x != 5:\n",
    "    print(\"변수 x의 값은 5와 같지 않습니다.\")\n",
    "else:\n",
    "    print(\"변수 x의 값은 5와 같습니다.\")"
   ]
  },
  {
   "cell_type": "markdown",
   "id": "39220a3e",
   "metadata": {},
   "source": [
    "### 10. 변수 y의 값이 10에서 20 사이의 값인지 검사하는 프로그램을 작성하라"
   ]
  },
  {
   "cell_type": "code",
   "execution_count": null,
   "id": "18cd4e27",
   "metadata": {},
   "outputs": [],
   "source": [
    "y = int(input(\"변수 y의 값을 입력하시오: \"))\n",
    "if 10 < y < 20:\n",
    "    print(\"변수 y의 값은 10에서 20 사이의 값입니다.\")\n",
    "else:\n",
    "    print(\"변수 y의 값은 10에서 20 사이의 값이 아닙니다.\")"
   ]
  }
 ],
 "metadata": {
  "kernelspec": {
   "display_name": "Python 3",
   "language": "python",
   "name": "python3"
  },
  "language_info": {
   "codemirror_mode": {
    "name": "ipython",
    "version": 3
   },
   "file_extension": ".py",
   "mimetype": "text/x-python",
   "name": "python",
   "nbconvert_exporter": "python",
   "pygments_lexer": "ipython3",
   "version": "3.11.2"
  }
 },
 "nbformat": 4,
 "nbformat_minor": 5
}
