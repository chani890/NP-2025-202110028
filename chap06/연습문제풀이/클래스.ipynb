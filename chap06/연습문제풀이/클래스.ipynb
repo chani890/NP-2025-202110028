{
 "cells": [
  {
   "cell_type": "markdown",
   "id": "ae9ae7b6",
   "metadata": {},
   "source": [
    "### 202110028 강찬희"
   ]
  },
  {
   "cell_type": "markdown",
   "id": "ff5b7c91",
   "metadata": {},
   "source": [
    "### 6-3. Moneybox 클래스를 작성하라. 이 클래스는 저축한 총액을 저장하는 인스턴스 <br> 변수가 있다. deposit(money) 메서드는 인수로 주어진 금액만큼 저축하고 총액을 출력한다,extract(money) 메소드는 money를 인출하고 총액을 출력한다. get_total() 메소드는<br> 총액을 알려준다.\n",
    "-  my_money = Moneybox() 객체를 생성하고 1000원을 저축하고, 200원을 인출한 다음, 총액을 출력하라."
   ]
  },
  {
   "cell_type": "code",
   "execution_count": 1,
   "id": "f02544c1",
   "metadata": {},
   "outputs": [
    {
     "name": "stdout",
     "output_type": "stream",
     "text": [
      "Deposited: 1000, Total: 1000\n",
      "Extracted: 200, Total: 800\n",
      "Total amount: 800\n"
     ]
    }
   ],
   "source": [
    "class Moneybox: \n",
    "    def __init__(self):\n",
    "        self.total = 0  # 저축한 총액을 저장하는 인스턴스 변수\n",
    "\n",
    "    def deposit(self, money):\n",
    "        self.total += money  # money만큼 저축\n",
    "        print(f\"Deposited: {money}, Total: {self.total}\")\n",
    "\n",
    "    def extract(self, money):\n",
    "        if money > self.total:\n",
    "            print(\"Insufficient funds!\")\n",
    "        else:\n",
    "            self.total -= money  # money만큼 인출\n",
    "            print(f\"Extracted: {money}, Total: {self.total}\")\n",
    "\n",
    "    def get_total(self):\n",
    "        return self.total  # 총액 반환\n",
    "\n",
    "# 객체 생성\n",
    "my_money = Moneybox()\n",
    "# 1000원 저축\n",
    "my_money.deposit(1000)\n",
    "# 200원 인출\n",
    "my_money.extract(200)\n",
    "# 총액 출력\n",
    "print(f\"Total amount: {my_money.get_total()}\")"
   ]
  },
  {
   "cell_type": "markdown",
   "id": "59f592ad",
   "metadata": {},
   "source": [
    "### 6-4 Password_manager 클래스를 작성하라. 이 클래스는 사용자의 모든 과거 패스워드를 저장하는 old_passwords 리스트 변수를 갖는다. 리스트의 마지막 요소는 현재 패스워드이다. 현재 패스워드를 알려주는 get_password와 새로운 패스워드를 설정하는 set_password 메소드를 정의하라. set_password는 과거에 사용하지 않은 새로운 패스워드를 설정할 때만 유효하다. 문자열을 입력받아 현재 패스워드와 같은지 True 또는 False를 반환하는 is_correct 메소드를 정의하라."
   ]
  },
  {
   "cell_type": "code",
   "execution_count": null,
   "id": "7e409e36",
   "metadata": {},
   "outputs": [],
   "source": [
    "### 6-4 Password_manager 클래스를 작성하라. 이 클래스는 사용자의 모든 과거 패스워드를 저장하는 old_passwords 리스트 변수를 갖는다. 리스트의 마지막 요소는 현재 패스워드이다. 현재 패스워드를 알려주는 get_password와 새로운 패스워드를 설정하는 set_password 메소드를 정의하라. set_password는 과거에 사용하지 않은 새로운 패스워드를 설정할 때만 유효하다. 문자열을 입력받아 현재 패스워드와 같은지 True 또는 False를 반환하는 is_correct 메소드를 정의하라.\n",
    "class Password_manager:\n",
    "    def __init__(self):\n",
    "        self.old_passwords = []  # 과거 패스워드를 저장하는 리스트\n",
    "\n",
    "    def get_password(self):\n",
    "        if self.old_passwords:\n",
    "            return self.old_passwords[-1]  # 현재 패스워드 반환\n",
    "        return None\n",
    "\n",
    "    def set_password(self, new_password):\n",
    "        if new_password in self.old_passwords:\n",
    "            print(\"This password has been used before. Choose a different one.\")\n",
    "        else:\n",
    "            self.old_passwords.append(new_password)  # 새로운 패스워드 설정\n",
    "            print(\"Password updated successfully.\")\n",
    "\n",
    "    def is_correct(self, password):\n",
    "        return password == self.get_password()  # 현재 패스워드와 비교하여 True/False 반환\n",
    "    \n",
    "# 객체 생성\n",
    "pm = Password_manager()\n",
    "# 패스워드 설정\n",
    "pm.set_password(\"mypassword123\")\n",
    "# 현재 패스워드 확인\n",
    "print(f\"Current password: {pm.get_password()}\")"
   ]
  },
  {
   "cell_type": "markdown",
   "id": "1d6c2b49",
   "metadata": {},
   "source": [
    "## 6-5 연습문제\n",
    "- Articles 클래스를 작성하라. 이 클래스는 각각 제품의 이름, 재고 수량, 단가를 나타내는 name, stock, price 인스턴스 변수를 가지고 있다. offer_price() 메소드는 구매 수량을 인수로 전달받아 총 가격을 반환한다. 구매 수량이 1~10개 이하이면 정상 가격을 반환하고, 11~50개이면 5% 할인된 가격을 반환한다. 또 51개 이상이면 10% 할인해 준다. purchase() 메소드는 구매 수량을 인수로 전달받아 재고 수량을 구매 수량만큼 감소한다.\n",
    "\n",
    "- 이 클래스를 이용하여 단가 1000원인 ”mask“를 10,000장으로 설정하고, 40장 구매 가격과 구매 후 재고를 출력하라."
   ]
  },
  {
   "cell_type": "code",
   "execution_count": 1,
   "id": "96e0874b",
   "metadata": {},
   "outputs": [
    {
     "name": "stdout",
     "output_type": "stream",
     "text": [
      "구매 가격: 38000.0원\n",
      "구매 후 재고: 9960장\n"
     ]
    }
   ],
   "source": [
    "#  Articles 클래스를 작성하라. 이 클래스는 각각 제품의 이름, 재고 수량, 단가를 나타내는 name, stock, price 인스턴스 변수를 가지고 있다. offer_price() 메소드는 구매 수량을 인수로 전달받아 총 가격을 반환한다. 구매 수량이 1~10개 이하이면 정상 가격을 반환하고, 11~50개이면 5% 할인된 가격을 반환한다. 또 51개 이상이면 10% 할인해 준다. purchase() 메소드는 구매 수량을 인수로 전달받아 재고 수량을 구매 수량만큼 감소한다.\n",
    "#  이 클래스를 이용하여 단가 1000원인 ”mask“를 10,000장으로 설정하고, 40장 구매 가격과 구매 후 재고를 출력하라\n",
    "class Articles:\n",
    "    def __init__(self, name, stock, price):\n",
    "        self.name = name\n",
    "        self.stock = stock\n",
    "        self.price = price\n",
    "\n",
    "    def offer_price(self, quantity):\n",
    "        if quantity <= 10:\n",
    "            total_price = self.price * quantity\n",
    "        elif 11 <= quantity <= 50:\n",
    "            total_price = self.price * quantity * 0.95\n",
    "        else:\n",
    "            total_price = self.price * quantity * 0.90\n",
    "        return total_price\n",
    "\n",
    "    def purchase(self, quantity):\n",
    "        if quantity <= self.stock:\n",
    "            self.stock -= quantity\n",
    "        else:\n",
    "            print(\"재고가 부족합니다.\")\n",
    "\n",
    "# 단가 1000원인 \"mask\"를 10,000장으로 설정\n",
    "mask = Articles(\"mask\", 10000, 1000)\n",
    "# 40장 구매 가격과 구매 후 재고 출력\n",
    "purchase_quantity = 40\n",
    "total_price = mask.offer_price(purchase_quantity)\n",
    "mask.purchase(purchase_quantity)\n",
    "print(f\"구매 가격: {total_price}원\")\n",
    "print(f\"구매 후 재고: {mask.stock}장\")\n",
    "\n"
   ]
  },
  {
   "cell_type": "markdown",
   "id": "2da1da4b",
   "metadata": {},
   "source": [
    "## 6-6 연습문제\n",
    "-  다음 프로그램을 실행했을 때 아래 내용이 출력되도록 클래스를 정의하라. 학번(id) 앞 4자리가\n",
    "2018보다 작으면 grade() 메소드에 의해 “3학년입니다“가 출력되고 아니면 ”3학년이 아닙\n",
    "니다“가 출력된다.\n",
    "- <br> ![image-2.png](attachment:image-2.png)"
   ]
  },
  {
   "cell_type": "code",
   "execution_count": 2,
   "id": "43d5d681",
   "metadata": {},
   "outputs": [
    {
     "name": "stdout",
     "output_type": "stream",
     "text": [
      "3학년입니다\n",
      "3학년이 아닙니다\n"
     ]
    }
   ],
   "source": [
    "#다음 프로그램을 실행했을 때 아래 내용이 출력되도록 클래스를 정의하라. 학번(id) 앞 4자리가2018보다 작으면 grade() 메소드에 의해 “3학년입니다“가 출력되고 아니면 ”3학년이 아닙니다“가 출력된다.\n",
    "class Student:\n",
    "    def __init__(self, id):\n",
    "        self.id = id\n",
    "\n",
    "    def grade(self):\n",
    "        if int(self.id[:4]) < 2018:\n",
    "            print(\"3학년입니다\")\n",
    "        else:\n",
    "            print(\"3학년이 아닙니다\")\n",
    "student1 = Student(\"20170001\")\n",
    "student1.grade()  # 출력: 3학년입니다\n",
    "student2 = Student(\"20180001\")\n",
    "student2.grade()  # 출력: 3학년이 아닙니다"
   ]
  },
  {
   "cell_type": "markdown",
   "id": "a49c43b2",
   "metadata": {},
   "source": [
    "## 6-7 연습문제 \n",
    "- 다음Person 클래스를상속받는Employee 클래스를정의하라. Employee 클래스에\n",
    "- employeeID 속성을추가하고getID() 메소드를정의하라. getID() 메소드는employeeID를\n",
    "- 반환하는메소드이다.\n",
    "- Employee 클래스를이용하여Employee(\"동양\", 65, 2019)로생성된 객체의이름, 나이, ID 를 출력하라."
   ]
  },
  {
   "cell_type": "code",
   "execution_count": null,
   "id": "8dc0ab61",
   "metadata": {},
   "outputs": [],
   "source": [
    "class person:\n",
    "    def __init__(self, name, age):\n",
    "        self.name = name\n",
    "        self.age = age\n",
    "    def getName(self):\n",
    "        return self.name\n",
    "    def getAge(self):\n",
    "        return self.age\n",
    "class Employee(person):\n",
    "    def __init__(self, name, age, employeeID):\n",
    "        super().__init__(name, age)\n",
    "        self.employeeID = employeeID\n",
    "    def getId(self):\n",
    "        return self.employeeID\n",
    "emp = Employee(\"동양\", 65, 2019)\n",
    "print(emp.getName())\n",
    "print(emp.getAge())\n",
    "print(emp.getId())"
   ]
  },
  {
   "cell_type": "markdown",
   "id": "ce6b23b7",
   "metadata": {},
   "source": [
    "## 6-8 연습문제 \n",
    "- 앞의 Person 클래스에서 새로운 Person 객체가 생성될 때 ID를 1001번지부터 순차적으로 자\n",
    "동으로 부여할 수 있도록 Employee 클래스를 포함해서 변경하시오. 새로운 Employee객체를\n",
    "만들어 getId() 를 호출할 때 Id가 중복되면 안된다."
   ]
  },
  {
   "cell_type": "code",
   "execution_count": 4,
   "id": "615c6f45",
   "metadata": {},
   "outputs": [
    {
     "name": "stdout",
     "output_type": "stream",
     "text": [
      "kim 25 1000\n",
      "lee 30 1001\n",
      "park 35 1002\n",
      "choi 40 1003\n",
      "jung 45 1004\n"
     ]
    }
   ],
   "source": [
    "## 6-8 연습문제 \n",
    "class person:\n",
    "    def __init__(self, name, age):\n",
    "        self.name = name\n",
    "        self.age = age\n",
    "        person.id += 1\n",
    "        self.employeeID = person.id\n",
    "    def getName(self):\n",
    "        return self.name\n",
    "    def getAge(self):\n",
    "        return self.age\n",
    "class Employee(person):\n",
    "    def __init__(self, name, age, employeeID):\n",
    "        super().__init__(name, age)\n",
    "        self.employeeID = employeeID\n",
    "    def getId(self):\n",
    "        return self.employeeID\n",
    "    \n",
    "person.id = 1000\n",
    "e1 = Employee(\"kim\", 25, person.id)\n",
    "print(e1.getName(), e1.getAge(), e1.getId())\n",
    "e2 = Employee(\"lee\", 30, person.id)\n",
    "print(e2.getName(), e2.getAge(), e2.getId())\n",
    "e3 = Employee(\"park\", 35, person.id)\n",
    "print(e3.getName(), e3.getAge(), e3.getId())\n",
    "e4 = Employee(\"choi\", 40, person.id)\n",
    "print(e4.getName(), e4.getAge(), e4.getId())\n",
    "e5 = Employee(\"jung\", 45, person.id)\n",
    "print(e5.getName(), e5.getAge(), e5.getId())"
   ]
  },
  {
   "cell_type": "markdown",
   "id": "15ac39ac",
   "metadata": {},
   "source": [
    "## 6-9 연습문제 \n",
    "- 파이썬으로 싱글톤 패턴을 구현하는 방법들\n",
    "- 파이썬에서 멀티쓰레드 구현하는 기법\n",
    "- 멀티쓰레드에서 공유 변수에 대한 Critical Section 을 보호하는 기법"
   ]
  },
  {
   "cell_type": "markdown",
   "id": "cbfc9236",
   "metadata": {},
   "source": [
    "### 6-10. 동물(Animal)을 울음을 추상 메소드로 하는 추상클래스로 정의하고,\n",
    "- 개(Dog)와 고양이(Cat)를 구체적인 클래스로 정의한 후,\n",
    "- 각 동물의 울음소리를 출력하는 프로그램을 작성하시오.\n",
    "- 각 동물객체는 자신의 이름을 속성으로 가지며,\n",
    "- 생성자에서 이름을 초기화합니다."
   ]
  },
  {
   "cell_type": "code",
   "execution_count": null,
   "id": "34ae2440",
   "metadata": {},
   "outputs": [
    {
     "name": "stdout",
     "output_type": "stream",
     "text": [
      "춘식이이 멍멍하고 울어요\n",
      "야옹이이 야옹하고 울어요\n",
      "총 동물의 수: 2\n",
      "바둑이이 멍멍하고 울어요\n",
      "총 동물의 수: 3\n",
      "바둑이이 멍멍하고 울어요\n",
      "나비이 야옹하고 울어요\n",
      "멍멍이이 멍멍하고 울어요\n",
      "야옹이이 야옹하고 울어요\n"
     ]
    }
   ],
   "source": [
    "from abc import ABC, abstractmethod \n",
    "\n",
    "class Animal(ABC):\n",
    "    animal_count = 0\n",
    "\n",
    "    def __init__(self):\n",
    "        Animal.animal_count += 1\n",
    "\n",
    "    @abstractmethod\n",
    "    def sound(self):\n",
    "        pass\n",
    "\n",
    "    @staticmethod\n",
    "    def get_animal_count():\n",
    "        return Animal.animal_count\n",
    "\n",
    "class Dog(Animal):\n",
    "    def __init__(self, name):\n",
    "        super().__init__() # 부모 클래스의 생성자 호출\n",
    "        self.__name = name\n",
    "\n",
    "    def sound(self): # 추상 메소드 구현\n",
    "        return f\"{self.__name}이 멍멍하고 울어요\"\n",
    "    \n",
    "class Cat(Animal):\n",
    "    def __init__(self, name):\n",
    "        super().__init__() # 부모 클래스의 생성자 호출\n",
    "        self.__name = name\n",
    "\n",
    "    def sound(self): # 추상 메소드 구현\n",
    "        return f\"{self.__name}이 야옹하고 울어요\"\n",
    "    \n",
    "if __name__ == \"__main__\":\n",
    "    mydog = Dog(\"춘식이\")\n",
    "    mycat = Cat(\"야옹이\")\n",
    "    print(mydog.sound())\n",
    "    print(mycat.sound())\n",
    "    print(f\"총 동물의 수: {Animal.get_animal_count()}\")\n",
    "\n",
    "anymal : Animal = Dog(\"바둑이\")\n",
    "print(anymal.sound())\n",
    "print(f\"총 동물의 수: {Animal.get_animal_count()}\")\n",
    "\n",
    "animallist = [Dog(\"바둑이\"), Cat(\"나비\"), Dog(\"멍멍이\"), Cat(\"야옹이\")]\n",
    "for animal in animallist:\n",
    "    print(animal.sound())\n",
    "\n",
    "\n",
    "def make_sound(animals: list[Animal]):\n",
    "    for animal in animals:\n",
    "        print(animal.sound())\n"
   ]
  },
  {
   "cell_type": "code",
   "execution_count": null,
   "id": "db9b18b6",
   "metadata": {},
   "outputs": [],
   "source": []
  }
 ],
 "metadata": {
  "kernelspec": {
   "display_name": "Python 3",
   "language": "python",
   "name": "python3"
  },
  "language_info": {
   "codemirror_mode": {
    "name": "ipython",
    "version": 3
   },
   "file_extension": ".py",
   "mimetype": "text/x-python",
   "name": "python",
   "nbconvert_exporter": "python",
   "pygments_lexer": "ipython3",
   "version": "3.11.2"
  }
 },
 "nbformat": 4,
 "nbformat_minor": 5
}
