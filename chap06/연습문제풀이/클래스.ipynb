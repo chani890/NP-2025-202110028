{
 "cells": [
  {
   "cell_type": "markdown",
   "id": "ae9ae7b6",
   "metadata": {},
   "source": [
    "### 202110028 강찬희"
   ]
  },
  {
   "cell_type": "markdown",
   "id": "ff5b7c91",
   "metadata": {},
   "source": [
    "### 6-3. Moneybox 클래스를 작성하라. 이 클래스는 저축한 총액을 저장하는 인스턴스 <br> 변수가 있다. deposit(money) 메서드는 인수로 주어진 금액만큼 저축하고 총액을 출력한다,extract(money) 메소드는 money를 인출하고 총액을 출력한다. get_total() 메소드는<br> 총액을 알려준다.\n",
    "-  my_money = Moneybox() 객체를 생성하고 1000원을 저축하고, 200원을 인출한 다음, 총액을 출력하라."
   ]
  },
  {
   "cell_type": "code",
   "execution_count": 1,
   "id": "f02544c1",
   "metadata": {},
   "outputs": [
    {
     "name": "stdout",
     "output_type": "stream",
     "text": [
      "Deposited: 1000, Total: 1000\n",
      "Extracted: 200, Total: 800\n",
      "Total amount: 800\n"
     ]
    }
   ],
   "source": [
    "class Moneybox: \n",
    "    def __init__(self):\n",
    "        self.total = 0  # 저축한 총액을 저장하는 인스턴스 변수\n",
    "\n",
    "    def deposit(self, money):\n",
    "        self.total += money  # money만큼 저축\n",
    "        print(f\"Deposited: {money}, Total: {self.total}\")\n",
    "\n",
    "    def extract(self, money):\n",
    "        if money > self.total:\n",
    "            print(\"Insufficient funds!\")\n",
    "        else:\n",
    "            self.total -= money  # money만큼 인출\n",
    "            print(f\"Extracted: {money}, Total: {self.total}\")\n",
    "\n",
    "    def get_total(self):\n",
    "        return self.total  # 총액 반환\n",
    "\n",
    "# 객체 생성\n",
    "my_money = Moneybox()\n",
    "# 1000원 저축\n",
    "my_money.deposit(1000)\n",
    "# 200원 인출\n",
    "my_money.extract(200)\n",
    "# 총액 출력\n",
    "print(f\"Total amount: {my_money.get_total()}\")"
   ]
  },
  {
   "cell_type": "markdown",
   "id": "59f592ad",
   "metadata": {},
   "source": [
    "### 6-4 Password_manager 클래스를 작성하라. 이 클래스는 사용자의 모든 과거 패스워드를 저장하는 old_passwords 리스트 변수를 갖는다. 리스트의 마지막 요소는 현재 패스워드이다. 현재 패스워드를 알려주는 get_password와 새로운 패스워드를 설정하는 set_password 메소드를 정의하라. set_password는 과거에 사용하지 않은 새로운 패스워드를 설정할 때만 유효하다. 문자열을 입력받아 현재 패스워드와 같은지 True 또는 False를 반환하는 is_correct 메소드를 정의하라."
   ]
  },
  {
   "cell_type": "code",
   "execution_count": null,
   "id": "7e409e36",
   "metadata": {},
   "outputs": [],
   "source": [
    "### 6-4 Password_manager 클래스를 작성하라. 이 클래스는 사용자의 모든 과거 패스워드를 저장하는 old_passwords 리스트 변수를 갖는다. 리스트의 마지막 요소는 현재 패스워드이다. 현재 패스워드를 알려주는 get_password와 새로운 패스워드를 설정하는 set_password 메소드를 정의하라. set_password는 과거에 사용하지 않은 새로운 패스워드를 설정할 때만 유효하다. 문자열을 입력받아 현재 패스워드와 같은지 True 또는 False를 반환하는 is_correct 메소드를 정의하라.\n",
    "class Password_manager:\n",
    "    def __init__(self):\n",
    "        self.old_passwords = []  # 과거 패스워드를 저장하는 리스트\n",
    "\n",
    "    def get_password(self):\n",
    "        if self.old_passwords:\n",
    "            return self.old_passwords[-1]  # 현재 패스워드 반환\n",
    "        return None\n",
    "\n",
    "    def set_password(self, new_password):\n",
    "        if new_password in self.old_passwords:\n",
    "            print(\"This password has been used before. Choose a different one.\")\n",
    "        else:\n",
    "            self.old_passwords.append(new_password)  # 새로운 패스워드 설정\n",
    "            print(\"Password updated successfully.\")\n",
    "\n",
    "    def is_correct(self, password):\n",
    "        return password == self.get_password()  # 현재 패스워드와 비교하여 True/False 반환\n",
    "    \n",
    "# 객체 생성\n",
    "pm = Password_manager()\n",
    "# 패스워드 설정\n",
    "pm.set_password(\"mypassword123\")\n",
    "# 현재 패스워드 확인\n",
    "print(f\"Current password: {pm.get_password()}\")"
   ]
  },
  {
   "cell_type": "markdown",
   "id": "cbfc9236",
   "metadata": {},
   "source": [
    "### 6-10. 동물(Animal)을 울음을 추상 메소드로 하는 추상클래스로 정의하고,\n",
    "- 개(Dog)와 고양이(Cat)를 구체적인 클래스로 정의한 후,\n",
    "- 각 동물의 울음소리를 출력하는 프로그램을 작성하시오.\n",
    "- 각 동물객체는 자신의 이름을 속성으로 가지며,\n",
    "- 생성자에서 이름을 초기화합니다."
   ]
  },
  {
   "cell_type": "code",
   "execution_count": null,
   "id": "34ae2440",
   "metadata": {},
   "outputs": [
    {
     "name": "stdout",
     "output_type": "stream",
     "text": [
      "춘식이이 멍멍하고 울어요\n",
      "야옹이이 야옹하고 울어요\n",
      "총 동물의 수: 2\n",
      "바둑이이 멍멍하고 울어요\n",
      "총 동물의 수: 3\n",
      "바둑이이 멍멍하고 울어요\n",
      "나비이 야옹하고 울어요\n",
      "멍멍이이 멍멍하고 울어요\n",
      "야옹이이 야옹하고 울어요\n"
     ]
    }
   ],
   "source": [
    "from abc import ABC, abstractmethod \n",
    "\n",
    "class Animal(ABC):\n",
    "    animal_count = 0\n",
    "\n",
    "    def __init__(self):\n",
    "        Animal.animal_count += 1\n",
    "\n",
    "    @abstractmethod\n",
    "    def sound(self):\n",
    "        pass\n",
    "\n",
    "    @staticmethod\n",
    "    def get_animal_count():\n",
    "        return Animal.animal_count\n",
    "\n",
    "class Dog(Animal):\n",
    "    def __init__(self, name):\n",
    "        super().__init__() # 부모 클래스의 생성자 호출\n",
    "        self.__name = name\n",
    "\n",
    "    def sound(self): # 추상 메소드 구현\n",
    "        return f\"{self.__name}이 멍멍하고 울어요\"\n",
    "    \n",
    "class Cat(Animal):\n",
    "    def __init__(self, name):\n",
    "        super().__init__() # 부모 클래스의 생성자 호출\n",
    "        self.__name = name\n",
    "\n",
    "    def sound(self): # 추상 메소드 구현\n",
    "        return f\"{self.__name}이 야옹하고 울어요\"\n",
    "    \n",
    "if __name__ == \"__main__\":\n",
    "    mydog = Dog(\"춘식이\")\n",
    "    mycat = Cat(\"야옹이\")\n",
    "    print(mydog.sound())\n",
    "    print(mycat.sound())\n",
    "    print(f\"총 동물의 수: {Animal.get_animal_count()}\")\n",
    "\n",
    "anymal : Animal = Dog(\"바둑이\")\n",
    "print(anymal.sound())\n",
    "print(f\"총 동물의 수: {Animal.get_animal_count()}\")\n",
    "\n",
    "animallist = [Dog(\"바둑이\"), Cat(\"나비\"), Dog(\"멍멍이\"), Cat(\"야옹이\")]\n",
    "for animal in animallist:\n",
    "    print(animal.sound())\n",
    "\n",
    "\n",
    "def make_sound(animals: list[Animal]):\n",
    "    for animal in animals:\n",
    "        print(animal.sound())\n"
   ]
  },
  {
   "cell_type": "code",
   "execution_count": null,
   "id": "db9b18b6",
   "metadata": {},
   "outputs": [],
   "source": []
  }
 ],
 "metadata": {
  "kernelspec": {
   "display_name": "Python 3",
   "language": "python",
   "name": "python3"
  },
  "language_info": {
   "codemirror_mode": {
    "name": "ipython",
    "version": 3
   },
   "file_extension": ".py",
   "mimetype": "text/x-python",
   "name": "python",
   "nbconvert_exporter": "python",
   "pygments_lexer": "ipython3",
   "version": "3.11.2"
  }
 },
 "nbformat": 4,
 "nbformat_minor": 5
}
