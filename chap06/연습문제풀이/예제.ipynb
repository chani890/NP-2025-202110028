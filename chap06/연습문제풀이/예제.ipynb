{
 "cells": [
  {
   "cell_type": "markdown",
   "id": "c7f3f98b",
   "metadata": {},
   "source": [
    "### 202110028 강찬희"
   ]
  },
  {
   "cell_type": "code",
   "execution_count": 1,
   "id": "8e45f972",
   "metadata": {},
   "outputs": [],
   "source": [
    "### 가시성 예제\n",
    "class Base:\n",
    "    def __init__(self):\n",
    "        self.public_value = 1 # public\n",
    "        self._protected_value = 2 # protected\n",
    "        self.__private_value = 3 # private  \n",
    "\n",
    "class Child(Base):\n",
    "    def show(self):\n",
    "        print(self.public_value)        # 접근 가능\n",
    "        print(self._protected_value)    # 접근 가능\n",
    "        # print(self.__private_value)   # 접근 불가 (AttributeError)\n",
    "\n",
    "class Other:\n",
    "    def show(self,obj: Base):\n",
    "        print(obj.public_value)         # 접근 가능\n",
    "        # print(obj._protected_value)    # 접근 불가 (권장되지 않음)\n",
    "        # print(obj.__private_value)     # 접근 불가 (AttributeError)"
   ]
  },
  {
   "cell_type": "code",
   "execution_count": 3,
   "id": "a096a111",
   "metadata": {},
   "outputs": [
    {
     "name": "stdout",
     "output_type": "stream",
     "text": [
      "멍멍\n"
     ]
    }
   ],
   "source": [
    "### 추상함수 예제\n",
    "\n",
    "from abc import ABC, abstractmethod\n",
    "\n",
    "class Animal(ABC):\n",
    "    @abstractmethod\n",
    "    def sound(self):\n",
    "        return '멍멍'\n",
    "    \n",
    "class Dog(Animal):\n",
    "    def sound(self):\n",
    "        return '멍멍'\n",
    "    \n",
    "# a=Animal() # 에러: 추상클래스는 인스턴스화 불가\n",
    "d = Dog()\n",
    "print(d.sound()) # 멍멍"
   ]
  },
  {
   "cell_type": "code",
   "execution_count": 6,
   "id": "5f179c65",
   "metadata": {},
   "outputs": [
    {
     "name": "stdout",
     "output_type": "stream",
     "text": [
      "1\n",
      "2\n",
      "1\n"
     ]
    }
   ],
   "source": [
    "### 정적 멤버 예제\n",
    "\n",
    "class Counter:\n",
    "    count = 0 # 클래스 변수 (정적 멤버)\n",
    "    \n",
    "    def __init__(self):\n",
    "        Counter.count += 1 # 인스턴스가 생성될 때마다 count 증가\n",
    "        self.__object_count = 0 # private 인스턴스 변수 초기화\n",
    "    \n",
    "    @staticmethod\n",
    "    def increment_class():\n",
    "        Counter.count += 1\n",
    "\n",
    "    def increment_object(self):\n",
    "        self.__object_count += 1 # private\n",
    "\n",
    "if __name__ == \"__main__\":\n",
    "    Counter.increment_class()\n",
    "    print(Counter.count) # 1\n",
    "\n",
    "    c = Counter()\n",
    "    print(Counter.count) # 1\n",
    "    c.increment_object()\n",
    "    print(c._Counter__object_count) # private 접근 가능\n",
    "\n"
   ]
  },
  {
   "cell_type": "code",
   "execution_count": 7,
   "id": "345b8535",
   "metadata": {},
   "outputs": [
    {
     "name": "stdout",
     "output_type": "stream",
     "text": [
      "--- 데코레이터 예제 ---\n",
      "함수 호출 전\n",
      "hello world\n",
      "함수 호출 후\n"
     ]
    }
   ],
   "source": [
    "### 파이썬 데코레이터(annotation) 예제\n",
    "\n",
    "def simple_decorator(func):\n",
    "    def wrapper():\n",
    "        print(\"함수 호출 전\")\n",
    "        func()\n",
    "        print(\"함수 호출 후\")\n",
    "    return wrapper\n",
    "\n",
    "@simple_decorator\n",
    "def say_hello():\n",
    "    print(\"hello world\")\n",
    "\n",
    "if __name__ == \"__main__\":\n",
    "    print(\"--- 데코레이터 예제 ---\")\n",
    "    say_hello()\n",
    "    # 함수 호출 전\n",
    "    # hello world\n",
    "    # 함수 호출 후"
   ]
  },
  {
   "cell_type": "code",
   "execution_count": 8,
   "id": "00587265",
   "metadata": {},
   "outputs": [
    {
     "name": "stdout",
     "output_type": "stream",
     "text": [
      "함수 호출 전\n",
      "hello world\n",
      "함수 호출 후\n",
      "함수 호출 전\n",
      "hello world\n",
      "함수 호출 후\n"
     ]
    }
   ],
   "source": [
    "### 파이썬 데코레이터(annotation) 예제 2\n",
    "\n",
    "def say_hello():\n",
    "    print(\"hello world\")\n",
    "\n",
    "def simple_decorator(func):\n",
    "    def wrapper():\n",
    "        print(\"함수 호출 전\")\n",
    "        func()\n",
    "        print(\"함수 호출 후\")\n",
    "    return wrapper\n",
    "\n",
    "original_hello = say_hello\n",
    "say_hello = simple_decorator(original_hello)\n",
    "decorated_say_hello = simple_decorator(original_hello)\n",
    "\n",
    "if __name__ == \"__main__\":\n",
    "    say_hello()\n",
    "    decorated_say_hello()\n",
    "\n",
    "    # 함수 호출 전\n",
    "    # hello world\n",
    "    # 함수 호출 후"
   ]
  }
 ],
 "metadata": {
  "kernelspec": {
   "display_name": "Python 3",
   "language": "python",
   "name": "python3"
  },
  "language_info": {
   "codemirror_mode": {
    "name": "ipython",
    "version": 3
   },
   "file_extension": ".py",
   "mimetype": "text/x-python",
   "name": "python",
   "nbconvert_exporter": "python",
   "pygments_lexer": "ipython3",
   "version": "3.11.2"
  }
 },
 "nbformat": 4,
 "nbformat_minor": 5
}
