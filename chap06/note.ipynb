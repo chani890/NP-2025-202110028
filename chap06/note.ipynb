{
 "cells": [
  {
   "cell_type": "markdown",
   "id": "9d15db41",
   "metadata": {},
   "source": [
    "### 강찬희 202110028"
   ]
  },
  {
   "cell_type": "markdown",
   "id": "aa90fe5d",
   "metadata": {},
   "source": [
    "## 파이썬의 클래스 \n",
    "\n",
    "### 객체지향 프로그래밍\n",
    "- 객체지향 프로그램은 객체(object)의 속성(변수)과 동작(함수)을 나타내는 클래스를 정의하고, 이로부터 객체를 생성(인스턴스화; Instantiation)하여 작성한 프로그램\n",
    "- 클래스의 동작을 나타내는 함수를 메소드(method)라 한다\n",
    "- 클래스는 다른 클래스로부터 상속받을 수 있다. 상속 클래스는 부모 클래스가 갖지 않는 속성과 메소드를 가질 수 있다\n",
    "- 객체는 클래스의 속성과 메소드를 갖는다"
   ]
  },
  {
   "cell_type": "markdown",
   "id": "ff2ad982",
   "metadata": {},
   "source": [
    "### 클래스 정의와 객체 생성\n",
    "- 클래스 정의<br>\n",
    "class 클래스이름(부모 클래스) <- class 키워드로 정의\n",
    "1. 클래스는 class키워드로 정의된다. 부모클래스는 없으면 생략\n",
    "2. 클래스 몸체는 변수와 메소드로 구성\n",
    "   \n",
    "### 클래스 객체\n",
    "- 클래스를 인스턴트화하여 만들어진 것을 객체라 한다\n",
    "- 객체는 클래스의 변수와 메소드에 접근할 수 있다\n",
    "\n",
    "#### class Test:    # 클래스 정의\n",
    "####       name = \"홍길동\"  # 클래스 속성 \n",
    "#### t = Test() # 객체생성\n",
    "#### print(t.name) # 객체에서 클래스 속성 접근  \n"
   ]
  },
  {
   "cell_type": "code",
   "execution_count": 1,
   "id": "7b87b728",
   "metadata": {},
   "outputs": [],
   "source": [
    "class Car :\n",
    "    def __init__(self, color, speed): #초기화 메소드. self는 객체를 나타냄\n",
    "        self.color = color #인스턴스 변수 정의\n",
    "        self.speed = speed\n",
    "    def speedUp(self, v): #메소드의 첫 번째 매개변수는 self\n",
    "        self.speed = self.speed + v\n",
    "        return self.speed\n",
    "    def speedDown(self, v):\n",
    "        self.speed = self.speed - v #다른 메소드에서 정의된 변수 접근\n",
    "        return self.speed"
   ]
  },
  {
   "cell_type": "markdown",
   "id": "d4ecc320",
   "metadata": {},
   "source": [
    "### 초기화 함수(_init_())\n",
    "- 객체를 생성할때 자동살향 메소드\n",
    "- 인스턴스 변수(self.var)를 초기화 할때 사용(초기화  필요 없으면 생략 가능)\n",
    "- self를 첫번째 매개변수로 가지며 self는 클래스 객체를 나타낸다\n",
    "- 인스턴트 변수는 클래스 내부의 모든 메소드에서 사용할수 있다."
   ]
  },
  {
   "cell_type": "markdown",
   "id": "08f4f513",
   "metadata": {},
   "source": [
    "### 클래스의 예"
   ]
  },
  {
   "cell_type": "markdown",
   "id": "c7ac2bf3",
   "metadata": {},
   "source": [
    "### Car 클래스 객체를 이용한 프로그램\n",
    "- Car 클래스 객제 mycar 생성\n",
    "- Car 클래스의 color와 speed 속성 접근\n",
    "- Car 클래스의 speedup()과 speeddown() 메소드 호출"
   ]
  },
  {
   "cell_type": "markdown",
   "id": "79d51726",
   "metadata": {},
   "source": [
    "- 클래스 속성: 클래스 변수와 인스턴스 변수"
   ]
  },
  {
   "cell_type": "code",
   "execution_count": 1,
   "id": "14665e7d",
   "metadata": {},
   "outputs": [
    {
     "name": "stdout",
     "output_type": "stream",
     "text": [
      "(3, 0)\n",
      "2\n",
      "3\n",
      "1 0\n"
     ]
    }
   ],
   "source": [
    "class Calc:\n",
    "    count = 0 # 클래스 변수. 클래스 내에서 유효\n",
    "    def add(self, a=0, b=0):\n",
    "        self.a = a # 인스턴스 변수\n",
    "        self.b = b\n",
    "        self.count += 1 # 클래스 변수를 self와 함께 사용하면 인스턴스 변수처럼 사용\n",
    "        return self.a + self.b\n",
    "    def minus(self, a,b):\n",
    "        if a == 0 or b== 0:\n",
    "            return a - b, self.count\n",
    "        else:\n",
    "            return a-b\n",
    "obj = Calc()\n",
    "print(obj.minus(3,0)) #count 속성 출력\n",
    "print(obj.minus(3,1))\n",
    "print(obj.add(1, 2)) #count 속성 증가\n",
    "print(obj.count, Calc.count) # 인스턴스 변수와 클래스 변수의 값 출력    "
   ]
  },
  {
   "cell_type": "markdown",
   "id": "eaf1134b",
   "metadata": {},
   "source": [
    "### 클래스 상속\n",
    "- 상속은 기존에 만들어진 클래스로부터 속성과 메소드를 이어받고 자신이 필요한 기능을 추가하는 기법이다\n",
    "- 상위 클래스 = 부모 클래스 또는 super class\n",
    "- 하위 클래스 = 자식 클래스 또는 sub class\n",
    "- 상속의 구현\n",
    "> class subclass(superclass):\n",
    "- 파이썬 프로그램의 모듈은 대부분 클래스로 구현되어 있고 자신의 프로그램에서는 모듈에 포함\n",
    "된 부모 클래스를 상속받아 구현된다\n",
    "> class Handler(serversocket.BaseRequestHandler):"
   ]
  },
  {
   "cell_type": "markdown",
   "id": "26f2824e",
   "metadata": {},
   "source": [
    "### 클래스 상속 예제\n",
    "- People 클래스에서 상속 받아 Teacher 클래스 정의\n",
    "- 부모 클래스 호출: super().method(args)/People.method(self, args)"
   ]
  },
  {
   "cell_type": "code",
   "execution_count": 3,
   "id": "825ce303",
   "metadata": {},
   "outputs": [],
   "source": [
    "class People :\n",
    "    def __init__(self, age=0, name=None):\n",
    "        self.__age = age\n",
    "        self.__name = name\n",
    "\n",
    "def introMe(self):\n",
    "    print(\"Name :\", self.__name, \"age :\", str(self.__age))\n",
    "\n",
    "class Teacher(People) :\n",
    "    def __init__(self, age=0, name=None, school=None) :\n",
    "        super().__init__(age, name) # 부모 클래스의 속성 할당. self 없음\n",
    "        self.school = school # 자신의 인스턴스 변수 추가\n",
    "    def showSchool(self):\n",
    "        print(\"My School is \", self.school)"
   ]
  },
  {
   "cell_type": "markdown",
   "id": "20e816f0",
   "metadata": {},
   "source": [
    "### 매소드 오버라이딩\n",
    "- 자식클래스에서 부모클래스의 메소드를 수정해 다시 정의하는 것\n",
    "- Student 클래스에서 People 클래스의 introMe() 메소드를 재정의하여 사용"
   ]
  },
  {
   "cell_type": "code",
   "execution_count": 4,
   "id": "9613d171",
   "metadata": {},
   "outputs": [],
   "source": [
    "class People : #부모 클래스\n",
    "    def __init__(self, age=0, name=None):\n",
    "        self.__age = age\n",
    "        self.__name = name\n",
    "    def introMe(self):\n",
    "        print(\"Name :\", self.__name, \"age :\", str(self.__age))\n",
    "\n",
    "class Student(People) : #자식 클래스\n",
    "    def __init__(self, age=0, name=None, grade=None):\n",
    "        super().__init__(age, name)\n",
    "        self.__grade = grade #자식 클래스의 변수\n",
    "    def introMe(self): # 부모 클래스 메소드를 재정의(오버라이딩)\n",
    "        super().introMe()\n",
    "        print(\"Grade : \", self.__grade)"
   ]
  },
  {
   "cell_type": "code",
   "execution_count": 6,
   "id": "116bb2d1",
   "metadata": {},
   "outputs": [
    {
     "name": "stdout",
     "output_type": "stream",
     "text": [
      "Name : Lee age : 29\n",
      "Name : Park age : 17\n",
      "Grade :  2\n"
     ]
    }
   ],
   "source": [
    "# 오버라이딩 메소드 호출\n",
    "\n",
    "p1 = People(29, \"Lee\")\n",
    "p1.introMe() # People의 introMe() 호출\n",
    "\n",
    "s1 = Student(17, \"Park\", 2)\n",
    "s1.introMe() # Student의 introMe() 호출\n",
    "\n",
    "# 출력 예시:\n",
    "# Name : Lee age : 29\n",
    "# Name : Park age : 17\n",
    "# Grade :  2"
   ]
  },
  {
   "cell_type": "markdown",
   "id": "c907fea4",
   "metadata": {},
   "source": [
    "### 다형성\n",
    "- 전달된 인자에 따라 함수 또는 연산의 기능이 달라지는 기능"
   ]
  },
  {
   "cell_type": "code",
   "execution_count": 8,
   "id": "9f21a91e",
   "metadata": {},
   "outputs": [
    {
     "name": "stdout",
     "output_type": "stream",
     "text": [
      "안녕하세요\n",
      "Hello\n"
     ]
    }
   ],
   "source": [
    "class Korean(object):\n",
    "    def greeting(self):\n",
    "        print(\"안녕하세요\")\n",
    "\n",
    "class American(object):\n",
    "    def greeting(self):\n",
    "        print(\"Hello\")\n",
    "\n",
    "def sayhello(people):\n",
    "    people.greeting()\n",
    "        \n",
    "Kim = Korean() # Korean 클래스 객체\n",
    "John = American() # American 클래스 객체\n",
    "sayhello(Kim) # 동일한 함수인데 인자에 따라 출력이 다름(안녕하세요)\n",
    "sayhello(John) # John을 전달하면 Hello"
   ]
  },
  {
   "cell_type": "markdown",
   "id": "f2d617c7",
   "metadata": {},
   "source": [
    "### 가시성\n",
    "- 파이썬은 C++/자바와 달리 접근 제어자(public, protected, private)가 엄격하게 적용되지 않음. 하지만 관례적으로 다음과 같이 가시성을 표현\n",
    "- public: 이름 앞에 밑줄 없음 (예: value)<br>\n",
    "→ 어디서나 접근 가능\n",
    "- protected: 이름 앞에 밑줄 1개 (예: _value)<br>\n",
    "→ 하위 클래스에서 접근 권장, 외부에서 직접 접근은 권장하지 않음\n",
    "- private: 이름 앞에 밑줄 2개 (예: __value)<br>\n",
    "→ 클래스 내부에서만 접근, 이름이 맹글링(name mangling)되어 외부/하위 클래스에서 직접 접\n",
    "근 어렵게 만듦"
   ]
  },
  {
   "cell_type": "code",
   "execution_count": 2,
   "id": "4517930e",
   "metadata": {},
   "outputs": [],
   "source": [
    "class Base:\n",
    "    def __init__(self):\n",
    "        self.public_value = 1  # public\n",
    "        self._protected_value = 2  # protected\n",
    "        self.__private_value = 3  # private\n",
    "\n",
    "class Child(Base):\n",
    "    def show(self):\n",
    "        print(self.public_value)  # 가능\n",
    "        print(self._protected_value)  # 가능\n",
    "        # print(self.__private_value) # 불가 (AttributeError)\n",
    "\n",
    "class Other:\n",
    "    def show(self, obj: Base):\n",
    "        print(obj.public_value)  # 가능\n",
    "        print(obj._protected_value)  # 가능 (하지만 권장되지 않음)\n",
    "        # print(obj.__private_value)  # 불가 (AttributeError)"
   ]
  },
  {
   "cell_type": "markdown",
   "id": "6f113342",
   "metadata": {},
   "source": [
    "### 파이썬에서 추상 메서드(abstarct method)\n",
    "- abc 모듈의 ABC(Abstract Base Class)와 @abstractmethod 데코레이터 (Java 의 annotation)를 사용해 정의\n",
    "- 추상 메서드는 반드시 하위 클래스에서 구현해야 하며, 직접 인스턴스화할 수 없음"
   ]
  },
  {
   "cell_type": "code",
   "execution_count": 5,
   "id": "9e299f4a",
   "metadata": {},
   "outputs": [
    {
     "name": "stdout",
     "output_type": "stream",
     "text": [
      "멍멍\n"
     ]
    }
   ],
   "source": [
    "from abc import ABC, abstractmethod\n",
    "\n",
    "class Animal(ABC):\n",
    "    @abstractmethod\n",
    "    def make_sound(self):\n",
    "        pass\n",
    "\n",
    "class Dog(Animal):\n",
    "    def make_sound(self):\n",
    "        return \"멍멍\"\n",
    "\n",
    "# a = Animal() # 불가 (TypeError)\n",
    "d = Dog()\n",
    "print(d.make_sound())  # \"멍멍\"\n",
    "\n"
   ]
  },
  {
   "cell_type": "markdown",
   "id": "812da263",
   "metadata": {},
   "source": [
    "### 정적 멤버(static variable, static methods)\n",
    "- 파이썬에서 정적 메서드<br>\n",
    "-> 파이썬에서 static member(정적 멤버, 클래스 변수)는 클래스 전체에서 공유되는 변수<br>\n",
    "-> 클래스 변수, 클래스 메소드라고 함<br>\n",
    "-> 메서드의 경우 @staticmethod 데코레이터를 사용해 정적 메서드를 정의<br>\n",
    "-> 정적 변수는 클래스 안에 self 가 아닌 일반 변수로 선언하고 클래스.변수 형태로 접근<br>"
   ]
  },
  {
   "cell_type": "code",
   "execution_count": null,
   "id": "5126b3a3",
   "metadata": {},
   "outputs": [],
   "source": []
  },
  {
   "cell_type": "markdown",
   "id": "546764b9",
   "metadata": {},
   "source": [
    "### 파이썬 데코레이터\n",
    "- 파이썬 데코레이터(decorator)는 함수나 클래스의 동작을 수정하거나 확장할 때 사용하는 문법\n",
    "-> 함수(또는 메서드) 정의 위에 @데코레이터이름 형태로 사용<br>\n",
    "-> 해당 함수가 호출될 때 데코레이터 함수 내에서 해당 함수가 실행<br>\n",
    "-> 데코레이터 함수의 정의는 다음 형식을 따라 wrapper 이름의 멤버 메소드를 정의<br>"
   ]
  },
  {
   "cell_type": "code",
   "execution_count": 7,
   "id": "e1a946be",
   "metadata": {},
   "outputs": [
    {
     "name": "stdout",
     "output_type": "stream",
     "text": [
      "=== 접근 제어자 예제 ===\n",
      "함수 실행 전\n",
      "안녕하세요!\n",
      "함수 실행 후\n"
     ]
    }
   ],
   "source": [
    "def simple_decorator(func):\n",
    "    def wrapper():\n",
    "        print(\"함수 실행 전\")\n",
    "        result = func()\n",
    "        print(\"함수 실행 후\")\n",
    "        return result\n",
    "    return wrapper\n",
    "\n",
    "@simple_decorator\n",
    "def say_hello():\n",
    "    print(\"안녕하세요!\")\n",
    "\n",
    "if __name__ == \"__main__\":\n",
    "    print(\"=== 접근 제어자 예제 ===\")\n",
    "    say_hello()\n"
   ]
  },
  {
   "cell_type": "markdown",
   "id": "cfb2f337",
   "metadata": {},
   "source": [
    "### 기존 함수를 확장(데코레이터를 통한)하기 위한 방법2"
   ]
  },
  {
   "cell_type": "code",
   "execution_count": null,
   "id": "03700ec9",
   "metadata": {},
   "outputs": [],
   "source": [
    "def say_hello():\n",
    "    print(\"Hello, World!\")\n",
    "\n",
    "def simple_decorator(func):\n",
    "    def wrapper():\n",
    "        print(\"함수 실행 전\")\n",
    "        result = func()\n",
    "        print(\"함수 실행 후\")\n",
    "        return result\n",
    "    return wrapper\n",
    "\n",
    "original_hello = say_hello # 원본 백업\n",
    "say_hello = simple_decorator(original_hello) # 1. 함수재할당\n",
    "decorated_hello = simple_decorator(original_hello) # 2. 다른 함수명이름\n",
    "\n",
    "if __name__ == \"__main__\":\n",
    "    say_hello()\n",
    "    decorated_hello()       "
   ]
  }
 ],
 "metadata": {
  "kernelspec": {
   "display_name": "Python 3",
   "language": "python",
   "name": "python3"
  },
  "language_info": {
   "codemirror_mode": {
    "name": "ipython",
    "version": 3
   },
   "file_extension": ".py",
   "mimetype": "text/x-python",
   "name": "python",
   "nbconvert_exporter": "python",
   "pygments_lexer": "ipython3",
   "version": "3.11.2"
  }
 },
 "nbformat": 4,
 "nbformat_minor": 5
}
