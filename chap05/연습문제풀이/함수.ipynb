{
 "cells": [
  {
   "cell_type": "markdown",
   "id": "63b2c341",
   "metadata": {},
   "source": [
    "### 202110028 강찬희"
   ]
  },
  {
   "cell_type": "markdown",
   "id": "27d345a5",
   "metadata": {},
   "source": [
    "### 두 개의 매개변수 n, m을 전달받아 m x n개의 * 상자를 출력하는 프로그램을 함수로 작성\n",
    "- 예: 2, 4 → **** <br> \n",
    "  &nbsp;&nbsp;&nbsp;&nbsp;&nbsp;&nbsp;&nbsp;&nbsp;&nbsp;&nbsp;&nbsp;&nbsp;&nbsp;&nbsp;&nbsp;&nbsp;&nbsp;****"
   ]
  },
  {
   "cell_type": "code",
   "execution_count": 1,
   "id": "94aedbc4",
   "metadata": {},
   "outputs": [
    {
     "name": "stdout",
     "output_type": "stream",
     "text": [
      "****\n",
      "****\n"
     ]
    }
   ],
   "source": [
    "n = int(input(\"Enter a first number: \"))\n",
    "m = int(input(\"Enter a second number: \"))\n",
    "\n",
    "for i in range(n):\n",
    "    for j in range(m):\n",
    "        print(\"*\", end=\"\")\n",
    "    print()"
   ]
  },
  {
   "cell_type": "markdown",
   "id": "56c59658",
   "metadata": {},
   "source": [
    "### 하나의 숫자를 전달받아 숫자의 자리 합을 구하는 함수를 작성\n",
    "- 예: 123 → 1+2+3 = 6"
   ]
  },
  {
   "cell_type": "code",
   "execution_count": 2,
   "id": "beadb842",
   "metadata": {},
   "outputs": [
    {
     "name": "stdout",
     "output_type": "stream",
     "text": [
      "10\n"
     ]
    }
   ],
   "source": [
    "n = int(input(\"Enter a number: \"))\n",
    "def digit_sum(n):\n",
    "    sum = 0\n",
    "    while n > 0:\n",
    "        sum += n % 10\n",
    "        n //= 10\n",
    "    return sum\n",
    "print(digit_sum(n))"
   ]
  },
  {
   "cell_type": "markdown",
   "id": "3db4da3b",
   "metadata": {},
   "source": [
    "### 두 개의 문자열이 서로 다른 처음 위치를 반환하는 함수를 작성. 두 개의 문자열이 같으면-1을 반환"
   ]
  },
  {
   "cell_type": "code",
   "execution_count": 4,
   "id": "573b05c5",
   "metadata": {},
   "outputs": [
    {
     "name": "stdout",
     "output_type": "stream",
     "text": [
      "The strings are identical.\n"
     ]
    }
   ],
   "source": [
    "def first_diff_index(str1, str2):\n",
    "    min_length = min(len(str1), len(str2))\n",
    "    for i in range(min_length):\n",
    "        if str1[i] != str2[i]:\n",
    "            return i\n",
    "    if len(str1) != len(str2):\n",
    "        return min_length\n",
    "    return -1\n",
    "\n",
    "s1 = input(\"Enter first string: \")\n",
    "s2 = input(\"Enter second string: \")\n",
    "index = first_diff_index(s1, s2)\n",
    "if index == -1:\n",
    "    print(\"The strings are identical.\")\n",
    "else:\n",
    "    print(f\"The first difference is at index {index}.\")"
   ]
  },
  {
   "cell_type": "markdown",
   "id": "6d13d645",
   "metadata": {},
   "source": [
    "### 숫자를 전달받아 그 수의 약수를 리스트로 반환하는 함수를 작성"
   ]
  },
  {
   "cell_type": "code",
   "execution_count": 6,
   "id": "52d65e91",
   "metadata": {},
   "outputs": [
    {
     "name": "stdout",
     "output_type": "stream",
     "text": [
      "[1, 7, 49]\n"
     ]
    }
   ],
   "source": [
    "def divisors(n):\n",
    "    divs = []\n",
    "    for i in range(1, n + 1):\n",
    "        if n % i == 0:\n",
    "            divs.append(i)\n",
    "    return divs\n",
    "n = int(input(\"Enter a number: \"))\n",
    "print(divisors(n))"
   ]
  },
  {
   "cell_type": "markdown",
   "id": "d86af3e9",
   "metadata": {},
   "source": [
    "### 문자열과 하나의 문자를 전달받아 문자열에서 문자의 위치를 모두 찾아 리스트로 반환하는 함수를 작성"
   ]
  },
  {
   "cell_type": "code",
   "execution_count": 9,
   "id": "1710a616",
   "metadata": {},
   "outputs": [
    {
     "name": "stdout",
     "output_type": "stream",
     "text": [
      "[1]\n"
     ]
    }
   ],
   "source": [
    "def find_all_indices(string, char):\n",
    "    indices = []\n",
    "    for i in range(len(string)):\n",
    "        if string[i] == char:\n",
    "            indices.append(i)\n",
    "    return indices\n",
    "s = input(\"Enter a string: \")\n",
    "c = input(\"Enter a character: \")\n",
    "result = find_all_indices(s, c)\n",
    "print(result)"
   ]
  },
  {
   "cell_type": "markdown",
   "id": "2ca3c769",
   "metadata": {},
   "source": [
    "### 재귀함수를 이용하여 1부터 100까지의 합을 계산하는 프로그램"
   ]
  },
  {
   "cell_type": "code",
   "execution_count": 3,
   "id": "ccae4b76",
   "metadata": {},
   "outputs": [
    {
     "name": "stdout",
     "output_type": "stream",
     "text": [
      "5050\n"
     ]
    }
   ],
   "source": [
    "def recursive_sum(n):\n",
    "    if n == 1:\n",
    "        return 1\n",
    "    else:\n",
    "        return n + recursive_sum(n - 1)\n",
    "print(recursive_sum(100))"
   ]
  }
 ],
 "metadata": {
  "kernelspec": {
   "display_name": "Python 3",
   "language": "python",
   "name": "python3"
  },
  "language_info": {
   "codemirror_mode": {
    "name": "ipython",
    "version": 3
   },
   "file_extension": ".py",
   "mimetype": "text/x-python",
   "name": "python",
   "nbconvert_exporter": "python",
   "pygments_lexer": "ipython3",
   "version": "3.11.2"
  }
 },
 "nbformat": 4,
 "nbformat_minor": 5
}
