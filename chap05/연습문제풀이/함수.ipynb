{
 "cells": [
  {
   "cell_type": "markdown",
   "id": "63b2c341",
   "metadata": {},
   "source": [
    "### 202110028 강찬희"
   ]
  },
  {
   "cell_type": "markdown",
   "id": "27d345a5",
   "metadata": {},
   "source": [
    "### 두 개의 매개변수 n, m을 전달받아 m x n개의 * 상자를 출력하는 프로그램을 함수로 작성\n",
    "- 예: 2, 4 → **** <br> \n",
    "  &nbsp;&nbsp;&nbsp;&nbsp;&nbsp;&nbsp;&nbsp;&nbsp;&nbsp;&nbsp;&nbsp;&nbsp;&nbsp;&nbsp;&nbsp;&nbsp;&nbsp;****"
   ]
  },
  {
   "cell_type": "code",
   "execution_count": 1,
   "id": "94aedbc4",
   "metadata": {},
   "outputs": [
    {
     "name": "stdout",
     "output_type": "stream",
     "text": [
      "****\n",
      "****\n"
     ]
    }
   ],
   "source": [
    "n = int(input(\"Enter a first number: \"))\n",
    "m = int(input(\"Enter a second number: \"))\n",
    "\n",
    "for i in range(n):\n",
    "    for j in range(m):\n",
    "        print(\"*\", end=\"\")\n",
    "    print()"
   ]
  },
  {
   "cell_type": "markdown",
   "id": "56c59658",
   "metadata": {},
   "source": [
    "### 하나의 숫자를 전달받아 숫자의 자리 합을 구하는 함수를 작성\n",
    "- 예: 123 → 1+2+3 = 6"
   ]
  },
  {
   "cell_type": "code",
   "execution_count": null,
   "id": "beadb842",
   "metadata": {},
   "outputs": [],
   "source": []
  },
  {
   "cell_type": "markdown",
   "id": "3db4da3b",
   "metadata": {},
   "source": [
    "### 두 개의 문자열이 서로 다른 처음 위치를 반환하는 함수를 작성. 두 개의 문자열이 같으면-1을 반환"
   ]
  },
  {
   "cell_type": "code",
   "execution_count": null,
   "id": "573b05c5",
   "metadata": {},
   "outputs": [],
   "source": []
  },
  {
   "cell_type": "markdown",
   "id": "6d13d645",
   "metadata": {},
   "source": [
    "### 숫자를 전달받아 그 수의 약수를 리스트로 반환하는 함수를 작성"
   ]
  },
  {
   "cell_type": "code",
   "execution_count": null,
   "id": "52d65e91",
   "metadata": {},
   "outputs": [],
   "source": []
  },
  {
   "cell_type": "markdown",
   "id": "d86af3e9",
   "metadata": {},
   "source": [
    "### 문자열과 하나의 문자를 전달받아 문자열에서 문자의 위치를 모두 찾아 리스트로 반환하는 함수를 작성"
   ]
  },
  {
   "cell_type": "code",
   "execution_count": null,
   "id": "1710a616",
   "metadata": {},
   "outputs": [],
   "source": []
  },
  {
   "cell_type": "markdown",
   "id": "2ca3c769",
   "metadata": {},
   "source": [
    "### 재귀함수를 이용하여 1부터 100까지의 합을 계산하는 프로그램"
   ]
  },
  {
   "cell_type": "code",
   "execution_count": 3,
   "id": "ccae4b76",
   "metadata": {},
   "outputs": [
    {
     "name": "stdout",
     "output_type": "stream",
     "text": [
      "5050\n"
     ]
    }
   ],
   "source": [
    "def recursive_sum(n):\n",
    "    if n == 1:\n",
    "        return 1\n",
    "    else:\n",
    "        return n + recursive_sum(n - 1)\n",
    "print(recursive_sum(100))"
   ]
  }
 ],
 "metadata": {
  "kernelspec": {
   "display_name": "Python 3",
   "language": "python",
   "name": "python3"
  },
  "language_info": {
   "codemirror_mode": {
    "name": "ipython",
    "version": 3
   },
   "file_extension": ".py",
   "mimetype": "text/x-python",
   "name": "python",
   "nbconvert_exporter": "python",
   "pygments_lexer": "ipython3",
   "version": "3.11.2"
  }
 },
 "nbformat": 4,
 "nbformat_minor": 5
}
