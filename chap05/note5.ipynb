{
 "cells": [
  {
   "cell_type": "markdown",
   "id": "101bfd4b",
   "metadata": {},
   "source": [
    "## 함수"
   ]
  },
  {
   "cell_type": "markdown",
   "id": "0a20b75a",
   "metadata": {},
   "source": [
    "함수란?\n",
    "\n",
    "- 이름을 붙여 반복적으로 사용할 수 있는 프로그램 부분\n",
    "- print(), input(), int(), str() 등"
   ]
  },
  {
   "cell_type": "markdown",
   "id": "e89e1713",
   "metadata": {},
   "source": [
    "함수를 사용하는 이유\n",
    "- 프로그램 안에서 중복된 코드를 제거한다.\n",
    "- 복잡한 프로그래밍 작업을 더 간단한 작업들로 분해할 수 있다\n",
    "- 함수는 한번 만들어지면 다른 프로그램에서도 재사용될 수 있다.\n",
    "- 함수를 사용하면 가독성(프로그램의 이해)이 증대되고, 유지 관리도 쉬워진다."
   ]
  },
  {
   "cell_type": "markdown",
   "id": "c26f470b",
   "metadata": {},
   "source": [
    "파이썬의 함수는 일급 함수이다. 함수를 변수처럼 사용\n",
    "- 변수에 할당: a = func\n",
    "- 다른 함수의 인자로 전달 가능: func1(func)\n",
    "- return 문으로 반환 가능: return func\n",
    " \n",
    "함수의 종류\n",
    "- 내장 함수\n",
    "- 사용자 정의 함수"
   ]
  },
  {
   "cell_type": "markdown",
   "id": "28df5b03",
   "metadata": {},
   "source": [
    "### 함수의 정의와 호출"
   ]
  },
  {
   "cell_type": "markdown",
   "id": "13de2e1e",
   "metadata": {},
   "source": [
    "### 사용자 정의 함수의 작성"
   ]
  },
  {
   "cell_type": "code",
   "execution_count": null,
   "id": "b7e2b652",
   "metadata": {},
   "outputs": [],
   "source": [
    "def 함수이름(매개변수):   # 함수의 이름과 매개변수 정의\n",
    "    문장1\n",
    "    문장2\n",
    "    #...\n",
    "    return 값  # 함수 종료시 반환 값. 들여쓰기가 끝나는 부분까지 함수"
   ]
  },
  {
   "cell_type": "markdown",
   "id": "86b1b0c1",
   "metadata": {},
   "source": [
    "### 함수의 정의와 호출 예"
   ]
  },
  {
   "cell_type": "code",
   "execution_count": 19,
   "id": "0bc8b5ce",
   "metadata": {},
   "outputs": [
    {
     "name": "stdout",
     "output_type": "stream",
     "text": [
      "Hello,  John\n"
     ]
    }
   ],
   "source": [
    "def welcome(name) : #함수의 정의\n",
    "    print(\"Hello, \", name) #return 문이 없어도 됨. None 반환\n",
    "welcome('John') #함수의 호출. 'John'이 매개변수로 전달됨"
   ]
  },
  {
   "cell_type": "markdown",
   "id": "11556955",
   "metadata": {},
   "source": [
    "### 반환 값이 없는 함수"
   ]
  },
  {
   "cell_type": "code",
   "execution_count": null,
   "id": "c12f942a",
   "metadata": {},
   "outputs": [
    {
     "name": "stdout",
     "output_type": "stream",
     "text": [
      "Welcome to Python\n"
     ]
    }
   ],
   "source": [
    "def prtStr(str) : #str을 매개변수라 함\n",
    "    print(\"%s\" %str)\n",
    "    return # 반환 값이 없이 함수가 종료\n",
    "\n",
    "str = \"Welcome to Python\"\n",
    "prtStr(str) # 매개변수를 전달하여 함수 호출"
   ]
  },
  {
   "cell_type": "markdown",
   "id": "2f04ffa9",
   "metadata": {},
   "source": [
    "### 값을 반환하는 함수"
   ]
  },
  {
   "cell_type": "code",
   "execution_count": null,
   "id": "cf828283",
   "metadata": {},
   "outputs": [
    {
     "name": "stdout",
     "output_type": "stream",
     "text": [
      "한변의 길이가 5인 정사각형의 넓이는 25\n",
      "한변의 길이가 7인 정사각형의 넓이는 49\n"
     ]
    }
   ],
   "source": [
    "def squareArea(s) :\n",
    "    area = s * s\n",
    "    return area # area 값이 반환되고 종료\n",
    "\n",
    "a = squareArea(5) # 5를 인자(argument)라 함. 반환 값이 a에 저장\n",
    "b = squareArea(7)\n",
    "print(\"한변의 길이가 %d인 정사각형의 넓이는 %d\" %(5, a))\n",
    "print(\"한변의 길이가 %d인 정사각형의 넓이는 %d\" %(7, b))"
   ]
  },
  {
   "cell_type": "markdown",
   "id": "6235244b",
   "metadata": {},
   "source": [
    "### 1~n 까지의 합을 계산하는 함수"
   ]
  },
  {
   "cell_type": "code",
   "execution_count": 22,
   "id": "a618b519",
   "metadata": {},
   "outputs": [
    {
     "name": "stdout",
     "output_type": "stream",
     "text": [
      "1275\n",
      "500500\n"
     ]
    }
   ],
   "source": [
    "def sum(n): # 매개변수 n을 전달받는다\n",
    "    hab = 0\n",
    "    for i in range(1, n+1): # 1~n까지 반복\n",
    "        hab = hab + i # 합에 새로운 수를 더한다\n",
    "    return hab # 반환값=hab\n",
    "a = sum(50) # 함수를 호출하여(인자=50) 1부터 50까지의 합을 계산\n",
    "b = sum(1000) # 함수를 호출하여(인자=1000) 1부터 1000까지의 합을 계산\n",
    "print(a)\n",
    "print(b)"
   ]
  },
  {
   "cell_type": "markdown",
   "id": "cc0e6927",
   "metadata": {},
   "source": [
    "###  반지름을 전달하면 원의 면적을 반환하는 cir_area(r) 함수와 원의 둘레를 반환하는 cir_cirm(r) 함수를 작성하라. 이들 함수를 이용하여 반지름이 3.5cm인 원의 면적과 둘레를 소수점 아래 첫 자리까지 구하라."
   ]
  },
  {
   "cell_type": "code",
   "execution_count": 24,
   "id": "4d937f51",
   "metadata": {},
   "outputs": [
    {
     "name": "stdout",
     "output_type": "stream",
     "text": [
      "반지름이 3.5인 원의 면적은 38.5\n",
      "반지름이 3.5인 원의 둘레는 22.0\n"
     ]
    }
   ],
   "source": [
    "a = 3.5\n",
    "def cir_area(r) :\n",
    "    area = 3.14 * r * r\n",
    "    return area\n",
    "def cir_cirm(r) :\n",
    "    cirm = 2 * 3.14 * r\n",
    "    return cirm\n",
    "print(\"반지름이 %.1f인 원의 면적은 %.1f\" %(a, cir_area(a)))\n",
    "print(\"반지름이 %.1f인 원의 둘레는 %.1f\" %(a, cir_cirm(a))) "
   ]
  },
  {
   "cell_type": "markdown",
   "id": "3b1e67ee",
   "metadata": {},
   "source": [
    "### 람다(lambda) 함수\n",
    "- 이름이 없는 한 줄짜리 함수\n",
    "-  lambda parameters: expr lambda 함수의 정의\n",
    "-  parameters는 매개변수, expr는 결과가 return되는 수식\n",
    "-  lambda x, y: x + y 매개변수 x, y를 전달받아 x + y를 리턴\n",
    "-  두 개 이상의 값을 리턴하려면 튜플, 리스트 사용\n",
    "-  lambda x, y: (x + y, x * y) (x+y, x*y) 튜플을 반환\n",
    "-  람다 함수의 호출"
   ]
  },
  {
   "cell_type": "code",
   "execution_count": 1,
   "id": "a6060c00",
   "metadata": {},
   "outputs": [
    {
     "data": {
      "text/plain": [
       "3"
      ]
     },
     "execution_count": 1,
     "metadata": {},
     "output_type": "execute_result"
    }
   ],
   "source": [
    "sum = lambda x,y : x + y\n",
    "sum(1,2)"
   ]
  },
  {
   "cell_type": "markdown",
   "id": "6feb4bf9",
   "metadata": {},
   "source": [
    "### 재귀함수\n",
    "- 함수 내에서 자기 자신을 호출하는 함수\n",
    "- 같은 동작을 반복할 때 재귀 함수 사용\n",
    "- 함수가 종료되는 조건을 반드시 포함해야 함\n",
    "- factorial(n!)을 구하는 재귀 함수"
   ]
  },
  {
   "cell_type": "code",
   "execution_count": 17,
   "id": "48d2d0b1",
   "metadata": {},
   "outputs": [
    {
     "name": "stdout",
     "output_type": "stream",
     "text": [
      "120\n"
     ]
    }
   ],
   "source": [
    "def fact(n):\n",
    "    if n == 1:\n",
    "        return 1\n",
    "    else:\n",
    "        return n * fact(n - 1)\n",
    "print(fact(5))"
   ]
  },
  {
   "cell_type": "markdown",
   "id": "b4951bd8",
   "metadata": {},
   "source": [
    "## 내장 함수"
   ]
  },
  {
   "cell_type": "markdown",
   "id": "d5e00e8b",
   "metadata": {},
   "source": [
    "### eval\n",
    "\n",
    "#### 문자열로 표시된 expr 의 계산 결과를 반환. 계산할 수 없으면 오류"
   ]
  },
  {
   "cell_type": "code",
   "execution_count": 1,
   "id": "2d32ef0f",
   "metadata": {},
   "outputs": [
    {
     "data": {
      "text/plain": [
       "7"
      ]
     },
     "execution_count": 1,
     "metadata": {},
     "output_type": "execute_result"
    }
   ],
   "source": [
    "eval('1 + 2 * 3')"
   ]
  },
  {
   "cell_type": "markdown",
   "id": "dd91246c",
   "metadata": {},
   "source": []
  },
  {
   "cell_type": "markdown",
   "id": "8a9ee807",
   "metadata": {},
   "source": [
    "### int <-> bin, oct, hex\n",
    "- int(str,base = 10)\n",
    "- 문자열 str을 10진수로 변환"
   ]
  },
  {
   "cell_type": "code",
   "execution_count": 4,
   "id": "97d88e48",
   "metadata": {},
   "outputs": [
    {
     "data": {
      "text/plain": [
       "123"
      ]
     },
     "execution_count": 4,
     "metadata": {},
     "output_type": "execute_result"
    }
   ],
   "source": [
    "int('123')\n"
   ]
  },
  {
   "cell_type": "code",
   "execution_count": 5,
   "id": "d3d6f0b2",
   "metadata": {},
   "outputs": [
    {
     "data": {
      "text/plain": [
       "4112"
      ]
     },
     "execution_count": 5,
     "metadata": {},
     "output_type": "execute_result"
    }
   ],
   "source": [
    "int('1010', 16)\n"
   ]
  },
  {
   "cell_type": "markdown",
   "id": "61c97c8e",
   "metadata": {},
   "source": [
    "### filter\n",
    "- seq의 각 요소에 대해 func를 호출하여 결과 True인 요소만 모아서 iterable로 반환"
   ]
  },
  {
   "cell_type": "code",
   "execution_count": 6,
   "id": "0a6f6bf0",
   "metadata": {},
   "outputs": [
    {
     "data": {
      "text/plain": [
       "['love', 'you', 'too']"
      ]
     },
     "execution_count": 6,
     "metadata": {},
     "output_type": "execute_result"
    }
   ],
   "source": [
    "list(filter(lambda x:len(x)>2, ['I', 'love', 'you', 'too']))"
   ]
  },
  {
   "cell_type": "code",
   "execution_count": 7,
   "id": "c4332800",
   "metadata": {},
   "outputs": [
    {
     "data": {
      "text/plain": [
       "5"
      ]
     },
     "execution_count": 7,
     "metadata": {},
     "output_type": "execute_result"
    }
   ],
   "source": [
    "list = ['this','is','a','test']\n",
    "def mylen(str):\n",
    "    return len(str)\n",
    "\n",
    "mylen('hello')"
   ]
  },
  {
   "cell_type": "code",
   "execution_count": 8,
   "id": "a8cb24d2",
   "metadata": {},
   "outputs": [
    {
     "data": {
      "text/plain": [
       "True"
      ]
     },
     "execution_count": 8,
     "metadata": {},
     "output_type": "execute_result"
    }
   ],
   "source": [
    "def isGood(x):\n",
    "    return True if len(x) > 2 else False\n",
    "isGood('hi')\n",
    "\n",
    "isGood('hello')"
   ]
  },
  {
   "cell_type": "markdown",
   "id": "5cdf5f05",
   "metadata": {},
   "source": [
    "### map\n",
    "- map(func, seq ...)\n",
    "- seq의 각 요소에 대해 func를 호출하여 실행하고 결과를 iterable로 반환\n"
   ]
  },
  {
   "cell_type": "code",
   "execution_count": 9,
   "id": "75228181",
   "metadata": {},
   "outputs": [
    {
     "name": "stdout",
     "output_type": "stream",
     "text": [
      "<map object at 0x124a2fb50>\n"
     ]
    }
   ],
   "source": [
    "def Square(n):\n",
    "    return n**2\n",
    "numbers = [1,3,5,9]\n",
    "## Square 함수에 numbers 요소를 하나씩 대입\n",
    "print(map(Square, numbers))"
   ]
  },
  {
   "cell_type": "markdown",
   "id": "985c9b32",
   "metadata": {},
   "source": [
    "### ord(반대 : chr)\n",
    "- ord(ch) - ordinal의 약자(순서가 있는 정수값)\n",
    "- Ch에 대한 ASCII 코드 반환 (유니코드 문자 )\n",
    "- ord('A') → 65\n",
    "- hex(ord(“한”)) → 0xd55c"
   ]
  },
  {
   "cell_type": "markdown",
   "id": "ca50219a",
   "metadata": {},
   "source": [
    "### round\n",
    "- round(x,n=0)\n",
    "- 실수 x를 소수점 아래 n자리로 반올림하여 반환"
   ]
  },
  {
   "cell_type": "code",
   "execution_count": 10,
   "id": "4c00ee6b",
   "metadata": {},
   "outputs": [
    {
     "data": {
      "text/plain": [
       "123.46"
      ]
     },
     "execution_count": 10,
     "metadata": {},
     "output_type": "execute_result"
    }
   ],
   "source": [
    "round(123.4567, 2)"
   ]
  },
  {
   "cell_type": "markdown",
   "id": "707e7ef9",
   "metadata": {},
   "source": [
    "### zip\n",
    "- zip(seq, *seqs)\n",
    "- seq 요소와 *seqs 요소의 튜플 쌍으로 만들어 리스트 iterable 반환"
   ]
  },
  {
   "cell_type": "code",
   "execution_count": null,
   "id": "f19a01ce",
   "metadata": {},
   "outputs": [
    {
     "name": "stdout",
     "output_type": "stream",
     "text": [
      "Peter Parker is actually Spiderman\n",
      "Clark Kent is actually Superman\n",
      "Wade Wilson is actually Deadpool\n",
      "Bruce Wayne is actually Batman\n"
     ]
    },
    {
     "ename": "NameError",
     "evalue": "name 'list1' is not defined",
     "output_type": "error",
     "traceback": [
      "\u001b[0;31m---------------------------------------------------------------------------\u001b[0m",
      "\u001b[0;31mNameError\u001b[0m                                 Traceback (most recent call last)",
      "Cell \u001b[0;32mIn[14], line 5\u001b[0m\n\u001b[1;32m      3\u001b[0m \u001b[38;5;28;01mfor\u001b[39;00m name, hero \u001b[38;5;129;01min\u001b[39;00m \u001b[38;5;28mzip\u001b[39m(names, heroes):\n\u001b[1;32m      4\u001b[0m     \u001b[38;5;28mprint\u001b[39m(\u001b[38;5;124mf\u001b[39m\u001b[38;5;124m'\u001b[39m\u001b[38;5;132;01m{\u001b[39;00mname\u001b[38;5;132;01m}\u001b[39;00m\u001b[38;5;124m is actually \u001b[39m\u001b[38;5;132;01m{\u001b[39;00mhero\u001b[38;5;132;01m}\u001b[39;00m\u001b[38;5;124m'\u001b[39m)\n\u001b[0;32m----> 5\u001b[0m result \u001b[38;5;241m=\u001b[39m \u001b[43mlist1\u001b[49m(\u001b[38;5;28mzip\u001b[39m(names, heroes))\n\u001b[1;32m      6\u001b[0m result\n",
      "\u001b[0;31mNameError\u001b[0m: name 'list1' is not defined"
     ]
    }
   ],
   "source": [
    "names = ['Peter Parker', 'Clark Kent', 'Wade Wilson', 'Bruce Wayne']\n",
    "heroes = ['Spiderman', 'Superman', 'Deadpool', 'Batman']\n",
    "for name, hero in zip(names, heroes):\n",
    "    print(f'{name} is actually {hero}')\n",
    "result = list(zip(names, heroes))\n",
    "result"
   ]
  },
  {
   "cell_type": "markdown",
   "id": "b9bad62e",
   "metadata": {},
   "source": [
    "## 타입이 있는 함수와 변수 정의"
   ]
  },
  {
   "cell_type": "markdown",
   "id": "f45b3227",
   "metadata": {},
   "source": [
    "### 동적 변수 타입, 함수의 반환 타입이 기본\n",
    "- ex) 기본적으로 타입을 명시하지 않아도 알아서 타입을 추론"
   ]
  },
  {
   "cell_type": "code",
   "execution_count": 15,
   "id": "a1004ee6",
   "metadata": {},
   "outputs": [],
   "source": [
    "def add(a, b):\n",
    "    return a + b\n",
    "\n",
    "def greet(name):\n",
    "    return f\"Hello, {name}!\"\n",
    "\n",
    "def get_list():\n",
    "    return [1,2,3]"
   ]
  },
  {
   "cell_type": "markdown",
   "id": "bfb98f05",
   "metadata": {},
   "source": [
    "### 명시적 변수 타입, 함수의 반환 타입이 기본\n",
    "- ex) 정확한 계산이 필요할 경우에 타입힌트를 통해서 가독성과 유지 보수성 향상"
   ]
  },
  {
   "cell_type": "code",
   "execution_count": 16,
   "id": "cb9d530e",
   "metadata": {},
   "outputs": [],
   "source": [
    "def add(a: int, b: int) -> int:\n",
    "    return a + b\n",
    "\n",
    "def greet(name: str) -> str:\n",
    "    return f\"Hello, {name}!\"\n",
    "\n",
    "def get_list() -> list:\n",
    "    return [1, 2, 3]"
   ]
  },
  {
   "cell_type": "markdown",
   "id": "70ceb240",
   "metadata": {},
   "source": [
    "### 타입힌트\n",
    "- Python 3.5버전 (2015년 9월 이후 지원하기 시작함)\n",
    "- 그 이전 버전의 코드에는 타입을 지정할 수 없음\n",
    "\n",
    "### 타입힌트 장점\n",
    "- 코드의 가독성 향상: 함수의 입력값과 반환값 타입을 명확히 하여 코드 이해가 쉬워집니다.\n",
    "- 버그 예방: 타입 불일치로 인한 오류를 사전에 발견할 수 있습니다.\n",
    "- 도구 지원: 타입 검사 도구(mypy 등)를 활용해 정적 분석이 가능해집니다.\n",
    "- 대규모 프로젝트에서 유지보수성 강화: 여러 개발자가 협업할 때 타입 정보를 통해 의도를 명확히 전달할 수 있습니다"
   ]
  },
  {
   "cell_type": "code",
   "execution_count": null,
   "id": "a2662688",
   "metadata": {},
   "outputs": [],
   "source": []
  },
  {
   "cell_type": "code",
   "execution_count": null,
   "id": "e6cbe0cb",
   "metadata": {},
   "outputs": [],
   "source": []
  }
 ],
 "metadata": {
  "kernelspec": {
   "display_name": "Python 3",
   "language": "python",
   "name": "python3"
  },
  "language_info": {
   "codemirror_mode": {
    "name": "ipython",
    "version": 3
   },
   "file_extension": ".py",
   "mimetype": "text/x-python",
   "name": "python",
   "nbconvert_exporter": "python",
   "pygments_lexer": "ipython3",
   "version": "3.11.2"
  }
 },
 "nbformat": 4,
 "nbformat_minor": 5
}
