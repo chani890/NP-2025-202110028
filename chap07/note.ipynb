{
 "cells": [
  {
   "cell_type": "markdown",
   "id": "27de65e4",
   "metadata": {},
   "source": [
    "### 202110028 강찬희"
   ]
  },
  {
   "cell_type": "markdown",
   "id": "6baf0208",
   "metadata": {},
   "source": [
    "### 모듈이란?\n",
    "- 함수,변수,클래스들을 모아 놓은 파일 묶음(라이브러리)"
   ]
  },
  {
   "cell_type": "markdown",
   "id": "73f9b72c",
   "metadata": {},
   "source": [
    "### 모듈 사용하기\n",
    "\n",
    "1. import module_name\n",
    "   - import socket\n",
    "   - socket 모듈에 포함된 함수,변수,클래스를 사용할수 있다\n",
    "   - dir(socket) <- socket 모듈에 들어있는 변수,함수,클래스를 보여줌\n",
    "   - dir(socket.socket) <- socket 모듈의 socket 클래스에 포함된 변수, 메소드를 보여 줌"
   ]
  },
  {
   "cell_type": "markdown",
   "id": "e408f0c5",
   "metadata": {},
   "source": [
    "2. from module_name import class or methods\n",
    "   - from socket import gethostname\n",
    "   - import된 class 또는 methods 사용할 수 있다\n",
    "   - >>> from socket import gethostname\n",
    "   - >>> gethostname() < class or methods 이름을 직접 호출"
   ]
  },
  {
   "cell_type": "markdown",
   "id": "b032de79",
   "metadata": {},
   "source": [
    "3. from module_name import*\n",
    "   - from socket import*\n",
    "   - socket 모듈의 모든 속성을 사용할 수 있다"
   ]
  },
  {
   "cell_type": "markdown",
   "id": "b9ce4a92",
   "metadata": {},
   "source": [
    "4. import module_name as alias(단축이름)\n",
    "   - 모듈이름이 긴 경우 단축이름으로 불러오기\n",
    "   - >>> import socket as so < 모듈을 단축이름으로 불러오기\n",
    "   - >>> so.gethostname() < 단축이름으로 속성 호출\n"
   ]
  },
  {
   "cell_type": "markdown",
   "id": "5ecf0458",
   "metadata": {},
   "source": [
    "### 사용자 정의 모듈 만들기\n",
    "- 모듈은 일반 프로그램과 같이 작성된다\n",
    "- 다음 파일을 myModule.py로 저장"
   ]
  },
  {
   "cell_type": "code",
   "execution_count": 3,
   "id": "9d448a4a",
   "metadata": {},
   "outputs": [
    {
     "name": "stdout",
     "output_type": "stream",
     "text": [
      "15\n",
      "8\n"
     ]
    }
   ],
   "source": [
    "def sum(n):\n",
    "    sum = 0\n",
    "    for i in range(1, n + 1):\n",
    "        sum += i\n",
    "    return sum\n",
    "\n",
    "def power(x,n):\n",
    "    prod = 1\n",
    "    for i in range(1, n+1):\n",
    "        prod = prod * x\n",
    "    return prod\n",
    "\n",
    "if __name__ == \"__main__\":\n",
    "    print(sum(5))\n",
    "    print(power(2, 3))"
   ]
  },
  {
   "cell_type": "markdown",
   "id": "ebb3d6e4",
   "metadata": {},
   "source": [
    "### 사용자 정의 모듈의 사용\n",
    "- import myModule #모듈을 불러온다. 파일이름에서.py 제외\n",
    "- hab = myModule.sum(10) #모듈의 sum 함수 실행\n",
    "- pwr = myModule.power(2,3) #모듈의 power 함수 실행\n",
    "- print(hab, pwr)"
   ]
  },
  {
   "cell_type": "markdown",
   "id": "46508c72",
   "metadata": {},
   "source": [
    "### sys 모듈\n",
    ">>> import sys<br>\n",
    ">>> sys.version -> 파이썬 버전정보<br>\n",
    "'3.7.6 (tags/v3.7.6:43364a7ae0, Dec 19 2019, 00:42:30) [MSC v.1916 64 bit<br>\n",
    "(AMD64)]'<br>\n",
    ">>> sys.prefix<br>\n",
    "'C:\\\\Python37' < 파이썬 설치 경로<br>\n",
    ">>> sys.path < 파이썬이 모듈을 찾는 경로<br>\n",
    "['', 'C:\\\\Python35-64\\\\Lib\\\\idlelib', 'C:\\\\Python35-64\\\\python35.zip',<br>\n",
    "'C:\\\\Python35-64\\\\DLLs', 'C:\\\\Python35-64\\\\lib', 'C:\\\\Python35-64',<br>\n",
    ">>> sys.stdin.readline() -> 표준 입력 장치. file 객체의 속성과 메소드 사용<br>\n",
    "hello < 입력값<br>\n",
    "'hello\\n' < 출력값<br>\n",
    ">>> sys.stdout.write('Hello') -> 표준 출력 장치. file 객체의 속성과 메소드 사용<br>\n",
    "Hello<br>"
   ]
  },
  {
   "cell_type": "markdown",
   "id": "9217f6d4",
   "metadata": {},
   "source": [
    "### sys.argv 속성\n",
    "- 명령 인수와 함께 프로그램을 실행할때 명령인수를 전달받음"
   ]
  },
  {
   "cell_type": "markdown",
   "id": "89cf89d5",
   "metadata": {},
   "source": [
    "### random 모듈\n",
    "- 난수(random number)를 만들 때 사용"
   ]
  },
  {
   "cell_type": "code",
   "execution_count": 4,
   "id": "8742ed6e",
   "metadata": {},
   "outputs": [
    {
     "data": {
      "text/plain": [
       "'l'"
      ]
     },
     "execution_count": 4,
     "metadata": {},
     "output_type": "execute_result"
    }
   ],
   "source": [
    "import random\n",
    "random.randint(1,5)\n",
    "\n",
    "random.random()\n",
    "\n",
    "random.randrange(1,10,1)\n",
    "\n",
    "random.choice('hello')"
   ]
  },
  {
   "cell_type": "markdown",
   "id": "d7339500",
   "metadata": {},
   "source": [
    "### math 모듈\n",
    "- 수학적 계산을 위한 모듈"
   ]
  },
  {
   "cell_type": "code",
   "execution_count": 6,
   "id": "db24f37c",
   "metadata": {},
   "outputs": [
    {
     "data": {
      "text/plain": [
       "['__doc__',\n",
       " '__file__',\n",
       " '__loader__',\n",
       " '__name__',\n",
       " '__package__',\n",
       " '__spec__',\n",
       " 'acos',\n",
       " 'acosh',\n",
       " 'asin',\n",
       " 'asinh',\n",
       " 'atan',\n",
       " 'atan2',\n",
       " 'atanh',\n",
       " 'cbrt',\n",
       " 'ceil',\n",
       " 'comb',\n",
       " 'copysign',\n",
       " 'cos',\n",
       " 'cosh',\n",
       " 'degrees',\n",
       " 'dist',\n",
       " 'e',\n",
       " 'erf',\n",
       " 'erfc',\n",
       " 'exp',\n",
       " 'exp2',\n",
       " 'expm1',\n",
       " 'fabs',\n",
       " 'factorial',\n",
       " 'floor',\n",
       " 'fmod',\n",
       " 'frexp',\n",
       " 'fsum',\n",
       " 'gamma',\n",
       " 'gcd',\n",
       " 'hypot',\n",
       " 'inf',\n",
       " 'isclose',\n",
       " 'isfinite',\n",
       " 'isinf',\n",
       " 'isnan',\n",
       " 'isqrt',\n",
       " 'lcm',\n",
       " 'ldexp',\n",
       " 'lgamma',\n",
       " 'log',\n",
       " 'log10',\n",
       " 'log1p',\n",
       " 'log2',\n",
       " 'modf',\n",
       " 'nan',\n",
       " 'nextafter',\n",
       " 'perm',\n",
       " 'pi',\n",
       " 'pow',\n",
       " 'prod',\n",
       " 'radians',\n",
       " 'remainder',\n",
       " 'sin',\n",
       " 'sinh',\n",
       " 'sqrt',\n",
       " 'tan',\n",
       " 'tanh',\n",
       " 'tau',\n",
       " 'trunc',\n",
       " 'ulp']"
      ]
     },
     "execution_count": 6,
     "metadata": {},
     "output_type": "execute_result"
    }
   ],
   "source": [
    "import math\n",
    "dir(math)"
   ]
  },
  {
   "cell_type": "code",
   "execution_count": 7,
   "id": "56667855",
   "metadata": {},
   "outputs": [
    {
     "data": {
      "text/plain": [
       "3.141592653589793"
      ]
     },
     "execution_count": 7,
     "metadata": {},
     "output_type": "execute_result"
    }
   ],
   "source": [
    "math.pi"
   ]
  },
  {
   "cell_type": "code",
   "execution_count": 8,
   "id": "3b405c8d",
   "metadata": {},
   "outputs": [
    {
     "data": {
      "text/plain": [
       "0.49999999999999994"
      ]
     },
     "execution_count": 8,
     "metadata": {},
     "output_type": "execute_result"
    }
   ],
   "source": [
    "math.sin(math.pi/6)"
   ]
  },
  {
   "cell_type": "code",
   "execution_count": 9,
   "id": "934e93d0",
   "metadata": {},
   "outputs": [
    {
     "data": {
      "text/plain": [
       "0.3010299956639812"
      ]
     },
     "execution_count": 9,
     "metadata": {},
     "output_type": "execute_result"
    }
   ],
   "source": [
    "math.log10(2)"
   ]
  },
  {
   "cell_type": "markdown",
   "id": "bd1084f8",
   "metadata": {},
   "source": [
    "### time 모듈\n",
    "- 시간을 문자열로 표시하는 모듈"
   ]
  },
  {
   "cell_type": "code",
   "execution_count": 13,
   "id": "4d24e54e",
   "metadata": {},
   "outputs": [
    {
     "data": {
      "text/plain": [
       "'Tue Sep 30 10:34:33 2025'"
      ]
     },
     "execution_count": 13,
     "metadata": {},
     "output_type": "execute_result"
    }
   ],
   "source": [
    "import time\n",
    "time.ctime()"
   ]
  },
  {
   "cell_type": "markdown",
   "id": "2e213d34",
   "metadata": {},
   "source": [
    "### calender 모듈\n",
    "- 달력을 출력하는 모듈"
   ]
  },
  {
   "cell_type": "code",
   "execution_count": 14,
   "id": "c16654d1",
   "metadata": {},
   "outputs": [
    {
     "name": "stdout",
     "output_type": "stream",
     "text": [
      "     June 2023\n",
      "Mo Tu We Th Fr Sa Su\n",
      "          1  2  3  4\n",
      " 5  6  7  8  9 10 11\n",
      "12 13 14 15 16 17 18\n",
      "19 20 21 22 23 24 25\n",
      "26 27 28 29 30\n",
      "\n"
     ]
    }
   ],
   "source": [
    "import calendar\n",
    "print(calendar.month(2023,6))"
   ]
  },
  {
   "cell_type": "markdown",
   "id": "a91a1d94",
   "metadata": {},
   "source": [
    "## 패키지"
   ]
  },
  {
   "cell_type": "markdown",
   "id": "ac1094fa",
   "metadata": {},
   "source": [
    "### _init_.py의 역할\n",
    "- 파이썬 패키지로 인식:\n",
    "- __init__.py 파일은 해당 디렉토리를 Python 패키지로 인식하게 만듭니다.\n",
    "- Python 3.3 이상에서는 __init__.py가 없어도 패키지로 인식되지만, 명시적으로 포함하는 것이 권장됩니다."
   ]
  },
  {
   "cell_type": "markdown",
   "id": "1465c456",
   "metadata": {},
   "source": [
    "### 모듈\n",
    "- 정의 : python에서 하나의 py파일이 하나의 모듈\n",
    "- 모듈은 함수,클래스,변수등을 포함할수 있으며, 코드 재사용을 위해 사용"
   ]
  },
  {
   "cell_type": "markdown",
   "id": "eb3a29fa",
   "metadata": {},
   "source": [
    "### 패키지(package)\n",
    "#### 정의: Python에서 디렉토리가 패키지\n",
    "- 패키지는 여러 모듈을 포함할 수 있음\n",
    "- 대규모 프로젝트에 필요\n",
    "- 디렉토리에 __init__.py 가 필수적 (비어 있더라도 인식)"
   ]
  },
  {
   "cell_type": "markdown",
   "id": "5ed119be",
   "metadata": {},
   "source": []
  }
 ],
 "metadata": {
  "kernelspec": {
   "display_name": "Python 3",
   "language": "python",
   "name": "python3"
  },
  "language_info": {
   "codemirror_mode": {
    "name": "ipython",
    "version": 3
   },
   "file_extension": ".py",
   "mimetype": "text/x-python",
   "name": "python",
   "nbconvert_exporter": "python",
   "pygments_lexer": "ipython3",
   "version": "3.11.2"
  }
 },
 "nbformat": 4,
 "nbformat_minor": 5
}
