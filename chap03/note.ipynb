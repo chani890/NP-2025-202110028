{
 "cells": [
  {
   "cell_type": "markdown",
   "id": "6acd74f3",
   "metadata": {},
   "source": [
    "반복문 \n",
    "\n",
    "조건을 만족할때 정해진 문장 블록을 실행"
   ]
  },
  {
   "cell_type": "code",
   "execution_count": null,
   "id": "fb3f2597",
   "metadata": {},
   "outputs": [
    {
     "name": "stdout",
     "output_type": "stream",
     "text": [
      "A\n"
     ]
    }
   ],
   "source": [
    "score = int(input(\"정수 입력:\"))\n",
    "if score >= 90:\n",
    "    print(\"A\")\n"
   ]
  },
  {
   "cell_type": "markdown",
   "id": "ef7ad7fb",
   "metadata": {},
   "source": [
    "if-else문\n",
    "\n",
    "조건이 참이면 block1을 실행하고 else:는 무시\n",
    "참이 아니면 else: 다음 block2를 실행"
   ]
  },
  {
   "cell_type": "code",
   "execution_count": 5,
   "id": "9fd5026f",
   "metadata": {},
   "outputs": [
    {
     "name": "stdout",
     "output_type": "stream",
     "text": [
      "A\n"
     ]
    }
   ],
   "source": [
    "if score >= 90:\n",
    "    print(\"A\")  \n",
    "else:\n",
    "    print(\"A 아님\")"
   ]
  },
  {
   "cell_type": "markdown",
   "id": "7e131aea",
   "metadata": {},
   "source": [
    "중첩 ifans - if문 속에 또 다른 if 문"
   ]
  },
  {
   "cell_type": "code",
   "execution_count": 6,
   "id": "0ca12edc",
   "metadata": {},
   "outputs": [
    {
     "name": "stdout",
     "output_type": "stream",
     "text": [
      "positive\n"
     ]
    }
   ],
   "source": [
    "n = int(input(\"type int number : \"))\n",
    "if n > 0 :\n",
    "    print(\"positive\")\n",
    "else :\n",
    "    if n < 0 :\n",
    "        print(\"negative\")\n",
    "    else :\n",
    "        print (\"0\")"
   ]
  },
  {
   "cell_type": "markdown",
   "id": "9a24eabf",
   "metadata": {},
   "source": [
    "다중 elif문\n",
    "\n",
    "위의 elif는 필요하다면 여러 개 사용할 수 있는 데 이렇게 여러 개의 조건 중 하나를 선택해\n",
    "사용하기 때문에 다중 선택문이라 한다\n",
    "\n",
    "이 선택문은 if 또는 elif의 조건이 참이면 그 해당\n",
    "블록을 실행하고 그 밑의 나머지 elif나 else는 무시한다\n"
   ]
  },
  {
   "cell_type": "markdown",
   "id": "86bb601d",
   "metadata": {},
   "source": [
    "## 반복문"
   ]
  },
  {
   "cell_type": "markdown",
   "id": "2e98accc",
   "metadata": {},
   "source": [
    "while 반복문의 기본 구조는 다음과 같다\n",
    "\n",
    "###  ［초기화］\n",
    "###                  while ［조건］ ：\n",
    "###     ［블록］\n",
    "### ［다음 문장］"
   ]
  },
  {
   "cell_type": "code",
   "execution_count": 7,
   "id": "fb1d5bff",
   "metadata": {},
   "outputs": [
    {
     "name": "stdout",
     "output_type": "stream",
     "text": [
      "sum= 5050\n"
     ]
    }
   ],
   "source": [
    "i = 1\n",
    "sum = 0\n",
    "while i <= 100 :\n",
    "    sum = sum + i\n",
    "    i = i + 1\n",
    "print(\"sum=\", sum)"
   ]
  },
  {
   "cell_type": "markdown",
   "id": "33d7f3df",
   "metadata": {},
   "source": [
    "for 반복문\n",
    "\n",
    "###   for ［변수］ in range(start, stop, step) :\n",
    "### ［블록 1］"
   ]
  },
  {
   "cell_type": "markdown",
   "id": "cf1c4163",
   "metadata": {},
   "source": []
  }
 ],
 "metadata": {
  "kernelspec": {
   "display_name": "Python 3",
   "language": "python",
   "name": "python3"
  },
  "language_info": {
   "codemirror_mode": {
    "name": "ipython",
    "version": 3
   },
   "file_extension": ".py",
   "mimetype": "text/x-python",
   "name": "python",
   "nbconvert_exporter": "python",
   "pygments_lexer": "ipython3",
   "version": "3.11.2"
  }
 },
 "nbformat": 4,
 "nbformat_minor": 5
}
